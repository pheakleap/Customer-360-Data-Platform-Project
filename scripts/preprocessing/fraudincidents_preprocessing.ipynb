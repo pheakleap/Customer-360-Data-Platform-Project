{
 "cells": [
  {
   "cell_type": "markdown",
   "metadata": {},
   "source": [
    "## Data Preprocessing"
   ]
  },
  {
   "cell_type": "code",
   "execution_count": 1,
   "metadata": {},
   "outputs": [],
   "source": [
    "import pandas as pd\n",
    "import numpy as np\n",
    "import matplotlib.pyplot as plt\n",
    "import seaborn as sns"
   ]
  },
  {
   "cell_type": "markdown",
   "metadata": {},
   "source": [
    "### EDA"
   ]
  },
  {
   "cell_type": "code",
   "execution_count": 2,
   "metadata": {},
   "outputs": [],
   "source": [
    "df = pd.read_csv(\"../../ETL/data/fraud_incidents.csv\")"
   ]
  },
  {
   "cell_type": "code",
   "execution_count": 3,
   "metadata": {},
   "outputs": [
    {
     "data": {
      "text/html": [
       "<div>\n",
       "<style scoped>\n",
       "    .dataframe tbody tr th:only-of-type {\n",
       "        vertical-align: middle;\n",
       "    }\n",
       "\n",
       "    .dataframe tbody tr th {\n",
       "        vertical-align: top;\n",
       "    }\n",
       "\n",
       "    .dataframe thead th {\n",
       "        text-align: right;\n",
       "    }\n",
       "</style>\n",
       "<table border=\"1\" class=\"dataframe\">\n",
       "  <thead>\n",
       "    <tr style=\"text-align: right;\">\n",
       "      <th></th>\n",
       "      <th>4086aa77-4090-4776-8cb4-2e77ffdf591f</th>\n",
       "      <th>a315527c-cf1a-4336-b954-1a752fd98482</th>\n",
       "      <th>Unauthorized Transaction</th>\n",
       "      <th>2025-03-10 06:55:10</th>\n",
       "      <th>Pending</th>\n",
       "    </tr>\n",
       "  </thead>\n",
       "  <tbody>\n",
       "    <tr>\n",
       "      <th>0</th>\n",
       "      <td>867c5583-aa80-4318-93fb-302fc35c5cbb</td>\n",
       "      <td>7b3cd7d7-3bfe-4fe4-b120-58eba10e4d69</td>\n",
       "      <td>Phishing</td>\n",
       "      <td>2025-02-06 15:36:33</td>\n",
       "      <td>Pending</td>\n",
       "    </tr>\n",
       "    <tr>\n",
       "      <th>1</th>\n",
       "      <td>85561331-fb96-446f-bf79-01cae851103a</td>\n",
       "      <td>1b11ef20-54e3-4e02-ac10-c9dca2a13ade</td>\n",
       "      <td>Phishing</td>\n",
       "      <td>2025-01-27 07:01:10</td>\n",
       "      <td>Investigating</td>\n",
       "    </tr>\n",
       "    <tr>\n",
       "      <th>2</th>\n",
       "      <td>dcbe13d5-7757-4532-8709-f6347899f6fd</td>\n",
       "      <td>a9d06942-a250-4d90-89d7-2442bf0f0798</td>\n",
       "      <td>Account Breach</td>\n",
       "      <td>2025-03-07 06:11:22</td>\n",
       "      <td>Pending</td>\n",
       "    </tr>\n",
       "    <tr>\n",
       "      <th>3</th>\n",
       "      <td>05969593-d0e0-438f-a533-be40ba4fcfbb</td>\n",
       "      <td>a880d2c2-ddb3-40c8-9ac0-026c18827aff</td>\n",
       "      <td>Account Breach</td>\n",
       "      <td>2025-02-11 11:22:49</td>\n",
       "      <td>Pending</td>\n",
       "    </tr>\n",
       "    <tr>\n",
       "      <th>4</th>\n",
       "      <td>759c3d04-a30e-4f56-86db-3899ed74ada4</td>\n",
       "      <td>8a6b3a1e-7723-43b3-a3ab-ee596853d5b3</td>\n",
       "      <td>Unauthorized Transaction</td>\n",
       "      <td>2025-03-19 23:20:39</td>\n",
       "      <td>Investigating</td>\n",
       "    </tr>\n",
       "    <tr>\n",
       "      <th>5</th>\n",
       "      <td>6b122437-c758-44e8-80c4-07abd69623ad</td>\n",
       "      <td>a62e25b6-f970-4555-bf2f-8826e913e58e</td>\n",
       "      <td>Unauthorized Transaction</td>\n",
       "      <td>2025-01-08 15:53:03</td>\n",
       "      <td>Pending</td>\n",
       "    </tr>\n",
       "    <tr>\n",
       "      <th>6</th>\n",
       "      <td>aab16acc-e9b9-42ee-85f1-8d287a96620e</td>\n",
       "      <td>666b8683-e592-43ad-9c2c-42ca99bfc9be</td>\n",
       "      <td>Unauthorized Transaction</td>\n",
       "      <td>2025-03-21 00:33:59</td>\n",
       "      <td>Investigating</td>\n",
       "    </tr>\n",
       "    <tr>\n",
       "      <th>7</th>\n",
       "      <td>f222d9e4-ea99-4401-a4ba-dd9081c8e460</td>\n",
       "      <td>15d1d2ec-1de1-43aa-9cb0-db4a4468f05f</td>\n",
       "      <td>Account Breach</td>\n",
       "      <td>2025-01-18 23:31:10</td>\n",
       "      <td>Investigating</td>\n",
       "    </tr>\n",
       "    <tr>\n",
       "      <th>8</th>\n",
       "      <td>98eee8f4-a372-41b4-ae1b-c77b770b304d</td>\n",
       "      <td>cad74c47-5a10-4e36-811e-2ab581aa0217</td>\n",
       "      <td>Account Breach</td>\n",
       "      <td>2025-03-05 23:37:09</td>\n",
       "      <td>Pending</td>\n",
       "    </tr>\n",
       "    <tr>\n",
       "      <th>9</th>\n",
       "      <td>66d29759-6448-4eee-8bfb-f30a567d12d2</td>\n",
       "      <td>0aaba017-7275-46ff-b70b-fdf0492196b6</td>\n",
       "      <td>Account Breach</td>\n",
       "      <td>2025-03-13 04:35:53</td>\n",
       "      <td>Pending</td>\n",
       "    </tr>\n",
       "    <tr>\n",
       "      <th>10</th>\n",
       "      <td>62966044-3e03-465e-a0a0-a5c5894da037</td>\n",
       "      <td>fe6b7ad3-de2c-4b76-9c02-bbc825b8c84d</td>\n",
       "      <td>Unauthorized Transaction</td>\n",
       "      <td>2025-01-01 04:14:13</td>\n",
       "      <td>Investigating</td>\n",
       "    </tr>\n",
       "    <tr>\n",
       "      <th>11</th>\n",
       "      <td>6b437379-3f52-459b-a5a7-24b80e657036</td>\n",
       "      <td>4e9a520e-544e-444f-bd0e-2cd8952302b5</td>\n",
       "      <td>Account Breach</td>\n",
       "      <td>2025-02-04 11:40:48</td>\n",
       "      <td>Pending</td>\n",
       "    </tr>\n",
       "    <tr>\n",
       "      <th>12</th>\n",
       "      <td>9ea0bfe4-a45e-4a81-a7a5-a832ca7e3d39</td>\n",
       "      <td>b9451ac9-7368-4f32-803c-b9c18d39c1bb</td>\n",
       "      <td>Account Breach</td>\n",
       "      <td>2025-02-11 04:11:18</td>\n",
       "      <td>Pending</td>\n",
       "    </tr>\n",
       "    <tr>\n",
       "      <th>13</th>\n",
       "      <td>23e4d2d8-2064-4188-a4ef-d8eed22aef14</td>\n",
       "      <td>4bd64732-69db-4d28-a196-57be761d5019</td>\n",
       "      <td>Unauthorized Transaction</td>\n",
       "      <td>2025-03-15 03:32:30</td>\n",
       "      <td>Investigating</td>\n",
       "    </tr>\n",
       "    <tr>\n",
       "      <th>14</th>\n",
       "      <td>cab35962-6cb6-4a36-aca4-925b235219b7</td>\n",
       "      <td>0c90c758-375e-4245-88a3-cf7e876dc6fe</td>\n",
       "      <td>Phishing</td>\n",
       "      <td>2025-01-04 12:51:19</td>\n",
       "      <td>Pending</td>\n",
       "    </tr>\n",
       "  </tbody>\n",
       "</table>\n",
       "</div>"
      ],
      "text/plain": [
       "    4086aa77-4090-4776-8cb4-2e77ffdf591f  \\\n",
       "0   867c5583-aa80-4318-93fb-302fc35c5cbb   \n",
       "1   85561331-fb96-446f-bf79-01cae851103a   \n",
       "2   dcbe13d5-7757-4532-8709-f6347899f6fd   \n",
       "3   05969593-d0e0-438f-a533-be40ba4fcfbb   \n",
       "4   759c3d04-a30e-4f56-86db-3899ed74ada4   \n",
       "5   6b122437-c758-44e8-80c4-07abd69623ad   \n",
       "6   aab16acc-e9b9-42ee-85f1-8d287a96620e   \n",
       "7   f222d9e4-ea99-4401-a4ba-dd9081c8e460   \n",
       "8   98eee8f4-a372-41b4-ae1b-c77b770b304d   \n",
       "9   66d29759-6448-4eee-8bfb-f30a567d12d2   \n",
       "10  62966044-3e03-465e-a0a0-a5c5894da037   \n",
       "11  6b437379-3f52-459b-a5a7-24b80e657036   \n",
       "12  9ea0bfe4-a45e-4a81-a7a5-a832ca7e3d39   \n",
       "13  23e4d2d8-2064-4188-a4ef-d8eed22aef14   \n",
       "14  cab35962-6cb6-4a36-aca4-925b235219b7   \n",
       "\n",
       "    a315527c-cf1a-4336-b954-1a752fd98482  Unauthorized Transaction  \\\n",
       "0   7b3cd7d7-3bfe-4fe4-b120-58eba10e4d69                  Phishing   \n",
       "1   1b11ef20-54e3-4e02-ac10-c9dca2a13ade                  Phishing   \n",
       "2   a9d06942-a250-4d90-89d7-2442bf0f0798            Account Breach   \n",
       "3   a880d2c2-ddb3-40c8-9ac0-026c18827aff            Account Breach   \n",
       "4   8a6b3a1e-7723-43b3-a3ab-ee596853d5b3  Unauthorized Transaction   \n",
       "5   a62e25b6-f970-4555-bf2f-8826e913e58e  Unauthorized Transaction   \n",
       "6   666b8683-e592-43ad-9c2c-42ca99bfc9be  Unauthorized Transaction   \n",
       "7   15d1d2ec-1de1-43aa-9cb0-db4a4468f05f            Account Breach   \n",
       "8   cad74c47-5a10-4e36-811e-2ab581aa0217            Account Breach   \n",
       "9   0aaba017-7275-46ff-b70b-fdf0492196b6            Account Breach   \n",
       "10  fe6b7ad3-de2c-4b76-9c02-bbc825b8c84d  Unauthorized Transaction   \n",
       "11  4e9a520e-544e-444f-bd0e-2cd8952302b5            Account Breach   \n",
       "12  b9451ac9-7368-4f32-803c-b9c18d39c1bb            Account Breach   \n",
       "13  4bd64732-69db-4d28-a196-57be761d5019  Unauthorized Transaction   \n",
       "14  0c90c758-375e-4245-88a3-cf7e876dc6fe                  Phishing   \n",
       "\n",
       "    2025-03-10 06:55:10        Pending  \n",
       "0   2025-02-06 15:36:33        Pending  \n",
       "1   2025-01-27 07:01:10  Investigating  \n",
       "2   2025-03-07 06:11:22        Pending  \n",
       "3   2025-02-11 11:22:49        Pending  \n",
       "4   2025-03-19 23:20:39  Investigating  \n",
       "5   2025-01-08 15:53:03        Pending  \n",
       "6   2025-03-21 00:33:59  Investigating  \n",
       "7   2025-01-18 23:31:10  Investigating  \n",
       "8   2025-03-05 23:37:09        Pending  \n",
       "9   2025-03-13 04:35:53        Pending  \n",
       "10  2025-01-01 04:14:13  Investigating  \n",
       "11  2025-02-04 11:40:48        Pending  \n",
       "12  2025-02-11 04:11:18        Pending  \n",
       "13  2025-03-15 03:32:30  Investigating  \n",
       "14  2025-01-04 12:51:19        Pending  "
      ]
     },
     "execution_count": 3,
     "metadata": {},
     "output_type": "execute_result"
    }
   ],
   "source": [
    "df.head(15)"
   ]
  },
  {
   "cell_type": "code",
   "execution_count": 4,
   "metadata": {},
   "outputs": [
    {
     "name": "stdout",
     "output_type": "stream",
     "text": [
      "4086aa77-4090-4776-8cb4-2e77ffdf591f    0\n",
      "a315527c-cf1a-4336-b954-1a752fd98482    0\n",
      "Unauthorized Transaction                0\n",
      "2025-03-10 06:55:10                     0\n",
      "Pending                                 0\n",
      "dtype: int64\n"
     ]
    }
   ],
   "source": [
    "# 1. Check for missing values\n",
    "print(df.isnull().sum())"
   ]
  },
  {
   "cell_type": "code",
   "execution_count": 5,
   "metadata": {},
   "outputs": [
    {
     "name": "stdout",
     "output_type": "stream",
     "text": [
      "0\n"
     ]
    }
   ],
   "source": [
    "# 2. Check for duplicates\n",
    "print(df.duplicated().sum())"
   ]
  },
  {
   "cell_type": "code",
   "execution_count": 6,
   "metadata": {},
   "outputs": [
    {
     "name": "stdout",
     "output_type": "stream",
     "text": [
      "4086aa77-4090-4776-8cb4-2e77ffdf591f    object\n",
      "a315527c-cf1a-4336-b954-1a752fd98482    object\n",
      "Unauthorized Transaction                object\n",
      "2025-03-10 06:55:10                     object\n",
      "Pending                                 object\n",
      "dtype: object\n"
     ]
    }
   ],
   "source": [
    "# 3. Check for data types\n",
    "print(df.dtypes)"
   ]
  },
  {
   "cell_type": "code",
   "execution_count": 7,
   "metadata": {},
   "outputs": [
    {
     "name": "stdout",
     "output_type": "stream",
     "text": [
      "4086aa77-4090-4776-8cb4-2e77ffdf591f    39999\n",
      "a315527c-cf1a-4336-b954-1a752fd98482    32898\n",
      "Unauthorized Transaction                    3\n",
      "2025-03-10 06:55:10                     39890\n",
      "Pending                                     3\n",
      "dtype: int64\n"
     ]
    }
   ],
   "source": [
    "# 4. Check for unique values\n",
    "print(df.nunique())"
   ]
  },
  {
   "cell_type": "code",
   "execution_count": 9,
   "metadata": {},
   "outputs": [
    {
     "data": {
      "text/html": [
       "<div>\n",
       "<style scoped>\n",
       "    .dataframe tbody tr th:only-of-type {\n",
       "        vertical-align: middle;\n",
       "    }\n",
       "\n",
       "    .dataframe tbody tr th {\n",
       "        vertical-align: top;\n",
       "    }\n",
       "\n",
       "    .dataframe thead th {\n",
       "        text-align: right;\n",
       "    }\n",
       "</style>\n",
       "<table border=\"1\" class=\"dataframe\">\n",
       "  <thead>\n",
       "    <tr style=\"text-align: right;\">\n",
       "      <th></th>\n",
       "      <th>4086aa77-4090-4776-8cb4-2e77ffdf591f</th>\n",
       "      <th>a315527c-cf1a-4336-b954-1a752fd98482</th>\n",
       "      <th>Unauthorized Transaction</th>\n",
       "      <th>2025-03-10 06:55:10</th>\n",
       "      <th>Pending</th>\n",
       "    </tr>\n",
       "  </thead>\n",
       "  <tbody>\n",
       "    <tr>\n",
       "      <th>count</th>\n",
       "      <td>39999</td>\n",
       "      <td>39999</td>\n",
       "      <td>39999</td>\n",
       "      <td>39999</td>\n",
       "      <td>39999</td>\n",
       "    </tr>\n",
       "    <tr>\n",
       "      <th>unique</th>\n",
       "      <td>39999</td>\n",
       "      <td>32898</td>\n",
       "      <td>3</td>\n",
       "      <td>39890</td>\n",
       "      <td>3</td>\n",
       "    </tr>\n",
       "    <tr>\n",
       "      <th>top</th>\n",
       "      <td>867c5583-aa80-4318-93fb-302fc35c5cbb</td>\n",
       "      <td>c8e7babb-5a65-4b3a-85ac-8660da605151</td>\n",
       "      <td>Account Breach</td>\n",
       "      <td>2025-03-17 02:01:33</td>\n",
       "      <td>Pending</td>\n",
       "    </tr>\n",
       "    <tr>\n",
       "      <th>freq</th>\n",
       "      <td>1</td>\n",
       "      <td>5</td>\n",
       "      <td>13395</td>\n",
       "      <td>2</td>\n",
       "      <td>13370</td>\n",
       "    </tr>\n",
       "  </tbody>\n",
       "</table>\n",
       "</div>"
      ],
      "text/plain": [
       "        4086aa77-4090-4776-8cb4-2e77ffdf591f  \\\n",
       "count                                  39999   \n",
       "unique                                 39999   \n",
       "top     867c5583-aa80-4318-93fb-302fc35c5cbb   \n",
       "freq                                       1   \n",
       "\n",
       "        a315527c-cf1a-4336-b954-1a752fd98482 Unauthorized Transaction  \\\n",
       "count                                  39999                    39999   \n",
       "unique                                 32898                        3   \n",
       "top     c8e7babb-5a65-4b3a-85ac-8660da605151           Account Breach   \n",
       "freq                                       5                    13395   \n",
       "\n",
       "        2025-03-10 06:55:10  Pending  \n",
       "count                 39999    39999  \n",
       "unique                39890        3  \n",
       "top     2025-03-17 02:01:33  Pending  \n",
       "freq                      2    13370  "
      ]
     },
     "execution_count": 9,
     "metadata": {},
     "output_type": "execute_result"
    }
   ],
   "source": [
    "# 5. Check for the distribution of numerical columns\n",
    "df.describe()"
   ]
  },
  {
   "cell_type": "code",
   "execution_count": 16,
   "metadata": {},
   "outputs": [
    {
     "name": "stdout",
     "output_type": "stream",
     "text": [
      "account_id                 object\n",
      "customer_id                object\n",
      "account_type               object\n",
      "account_balance           float64\n",
      "currency                   object\n",
      "created_at         datetime64[ns]\n",
      "dtype: object\n"
     ]
    }
   ],
   "source": [
    "df['created_at'] = pd.to_datetime(df['created_at'], errors='coerce')\n",
    "\n",
    "# Verify changes\n",
    "print(df.dtypes)"
   ]
  },
  {
   "cell_type": "markdown",
   "metadata": {},
   "source": [
    "### Handle Outliers (IQR Method)"
   ]
  },
  {
   "cell_type": "code",
   "execution_count": 13,
   "metadata": {},
   "outputs": [
    {
     "name": "stdout",
     "output_type": "stream",
     "text": [
      "-50091.94625000001 150151.48375\n"
     ]
    }
   ],
   "source": [
    "Q1 = df['account_balance'].quantile(0.25)\n",
    "Q3 = df['account_balance'].quantile(0.75)\n",
    "IQR = Q3 - Q1\n",
    "lower_bound = Q1 - 1.5 * IQR\n",
    "upper_bound = Q3 + 1.5 * IQR\n",
    "print(lower_bound, upper_bound)\n"
   ]
  },
  {
   "cell_type": "markdown",
   "metadata": {},
   "source": [
    "### Your account_balance column has no outliers based on the IQR method. The data is well-distributed.\n",
    "Explanation: \n",
    "Negative Lower Bound (-50091.95): A negative balance makes no sense for a typical account balance if it's not supposed to allow overdrafts.\n",
    "However, it being negative indicates that there are no negative values in your data — all positive balances fall above the lower bound.\n",
    "\n",
    "No outliers on the lower side.\n",
    "\n",
    "Upper Bound (150151.48):The maximum value in your data is 99,999.42, which is well below the upper bound.\n",
    "\n",
    "No outliers on the upper side."
   ]
  },
  {
   "cell_type": "code",
   "execution_count": 12,
   "metadata": {},
   "outputs": [
    {
     "name": "stdout",
     "output_type": "stream",
     "text": [
      "Numerical columns: Index(['account_balance'], dtype='object')\n"
     ]
    }
   ],
   "source": [
    "# Check numerical columns\n",
    "num_cols = df.select_dtypes(include=[np.number]).columns\n",
    "print(\"Numerical columns:\", num_cols)\n"
   ]
  },
  {
   "cell_type": "code",
   "execution_count": null,
   "metadata": {},
   "outputs": [],
   "source": [
    "###"
   ]
  }
 ],
 "metadata": {
  "kernelspec": {
   "display_name": "reg",
   "language": "python",
   "name": "python3"
  },
  "language_info": {
   "codemirror_mode": {
    "name": "ipython",
    "version": 3
   },
   "file_extension": ".py",
   "mimetype": "text/x-python",
   "name": "python",
   "nbconvert_exporter": "python",
   "pygments_lexer": "ipython3",
   "version": "3.12.4"
  }
 },
 "nbformat": 4,
 "nbformat_minor": 2
}
