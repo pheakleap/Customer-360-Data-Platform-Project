{
 "cells": [
  {
   "cell_type": "markdown",
   "metadata": {},
   "source": [
    "## Data Preprocessing"
   ]
  },
  {
   "cell_type": "code",
   "execution_count": 1,
   "metadata": {},
   "outputs": [],
   "source": [
    "import pandas as pd\n",
    "import numpy as np\n",
    "import matplotlib.pyplot as plt\n",
    "import seaborn as sns"
   ]
  },
  {
   "cell_type": "markdown",
   "metadata": {},
   "source": [
    "### EDA"
   ]
  },
  {
   "cell_type": "code",
   "execution_count": 2,
   "metadata": {},
   "outputs": [],
   "source": [
    "df = pd.read_csv(\"../../ETL/data/fraud_incidents.csv\")"
   ]
  },
  {
   "cell_type": "code",
   "execution_count": 3,
   "metadata": {},
   "outputs": [
    {
     "data": {
      "text/html": [
       "<div>\n",
       "<style scoped>\n",
       "    .dataframe tbody tr th:only-of-type {\n",
       "        vertical-align: middle;\n",
       "    }\n",
       "\n",
       "    .dataframe tbody tr th {\n",
       "        vertical-align: top;\n",
       "    }\n",
       "\n",
       "    .dataframe thead th {\n",
       "        text-align: right;\n",
       "    }\n",
       "</style>\n",
       "<table border=\"1\" class=\"dataframe\">\n",
       "  <thead>\n",
       "    <tr style=\"text-align: right;\">\n",
       "      <th></th>\n",
       "      <th>incident_id</th>\n",
       "      <th>customer_id</th>\n",
       "      <th>incident_type</th>\n",
       "      <th>incident_date</th>\n",
       "      <th>status</th>\n",
       "    </tr>\n",
       "  </thead>\n",
       "  <tbody>\n",
       "    <tr>\n",
       "      <th>0</th>\n",
       "      <td>e1e7e879-633f-4a41-b772-6bedfaa7dbf2</td>\n",
       "      <td>74d9f031-8a84-4f87-a6c5-2ea1b6cfb9fc</td>\n",
       "      <td>Phishing</td>\n",
       "      <td>2025-01-29 16:34:53</td>\n",
       "      <td>Investigating</td>\n",
       "    </tr>\n",
       "    <tr>\n",
       "      <th>1</th>\n",
       "      <td>bfae4b1a-0377-4ff6-b21b-328d6e4ab0f0</td>\n",
       "      <td>338a469c-ccbc-4d7c-b135-ebf72818aca4</td>\n",
       "      <td>Phishing</td>\n",
       "      <td>2025-02-11 22:31:38</td>\n",
       "      <td>Resolved</td>\n",
       "    </tr>\n",
       "    <tr>\n",
       "      <th>2</th>\n",
       "      <td>deb8d7e9-2156-4e24-85c0-b42793ac8907</td>\n",
       "      <td>b315fa7e-d189-4487-b5dd-e4b76fea4812</td>\n",
       "      <td>Unauthorized Transaction</td>\n",
       "      <td>2025-01-16 19:32:44</td>\n",
       "      <td>Resolved</td>\n",
       "    </tr>\n",
       "    <tr>\n",
       "      <th>3</th>\n",
       "      <td>d5b70a52-3fad-4767-b505-f72ee10d545c</td>\n",
       "      <td>d7f96e0c-f4ea-4e84-9de0-54eeb2b2bda8</td>\n",
       "      <td>Phishing</td>\n",
       "      <td>2025-02-07 13:47:32</td>\n",
       "      <td>Resolved</td>\n",
       "    </tr>\n",
       "    <tr>\n",
       "      <th>4</th>\n",
       "      <td>b0ab2c00-b44a-47eb-a5dd-cc5495430e70</td>\n",
       "      <td>96a88cb3-d3e3-4de8-9beb-3a2fcefc37d6</td>\n",
       "      <td>Unauthorized Transaction</td>\n",
       "      <td>2025-02-27 07:18:02</td>\n",
       "      <td>Pending</td>\n",
       "    </tr>\n",
       "    <tr>\n",
       "      <th>5</th>\n",
       "      <td>fef00ac4-cc09-4ff7-92e5-63d18a9ddff1</td>\n",
       "      <td>250d707b-cdeb-4cad-a850-54fe5801e9a9</td>\n",
       "      <td>Phishing</td>\n",
       "      <td>2025-03-21 15:19:48</td>\n",
       "      <td>Resolved</td>\n",
       "    </tr>\n",
       "    <tr>\n",
       "      <th>6</th>\n",
       "      <td>fef766c1-7bce-443a-b795-6202557787b5</td>\n",
       "      <td>1fe641c4-7c3c-4ec0-9c6f-ff5d5306ab82</td>\n",
       "      <td>Unauthorized Transaction</td>\n",
       "      <td>2025-01-15 06:59:07</td>\n",
       "      <td>Pending</td>\n",
       "    </tr>\n",
       "    <tr>\n",
       "      <th>7</th>\n",
       "      <td>7bf71c51-6605-47fc-aa04-a2fb3f66360e</td>\n",
       "      <td>03422825-1990-4b8f-b524-72d34282abd0</td>\n",
       "      <td>Unauthorized Transaction</td>\n",
       "      <td>2025-01-17 02:55:32</td>\n",
       "      <td>Pending</td>\n",
       "    </tr>\n",
       "    <tr>\n",
       "      <th>8</th>\n",
       "      <td>df3f1073-95f4-42ec-a35c-a01365f3fea3</td>\n",
       "      <td>fa241bbc-bbd1-430b-9fdf-1121d957e808</td>\n",
       "      <td>Phishing</td>\n",
       "      <td>2025-01-16 12:28:51</td>\n",
       "      <td>Pending</td>\n",
       "    </tr>\n",
       "    <tr>\n",
       "      <th>9</th>\n",
       "      <td>f198373c-3958-45fe-838e-043b714d11bc</td>\n",
       "      <td>f98c1bc8-9518-4a7b-94be-b3784cdac82f</td>\n",
       "      <td>Phishing</td>\n",
       "      <td>2025-02-24 09:02:05</td>\n",
       "      <td>Investigating</td>\n",
       "    </tr>\n",
       "    <tr>\n",
       "      <th>10</th>\n",
       "      <td>933e378a-72b4-43a6-bea0-82be4367f21e</td>\n",
       "      <td>85669759-6c8f-4f0b-921f-b3a64abc1128</td>\n",
       "      <td>Phishing</td>\n",
       "      <td>2025-01-21 04:54:46</td>\n",
       "      <td>Investigating</td>\n",
       "    </tr>\n",
       "    <tr>\n",
       "      <th>11</th>\n",
       "      <td>e4b04da3-24dc-42cf-aa01-635faa9ebbc6</td>\n",
       "      <td>38709086-5cdb-412d-bc9f-25785a8f0a5e</td>\n",
       "      <td>Account Breach</td>\n",
       "      <td>2025-01-29 23:17:46</td>\n",
       "      <td>Pending</td>\n",
       "    </tr>\n",
       "    <tr>\n",
       "      <th>12</th>\n",
       "      <td>c383f3e8-acf6-4817-9abf-b1ab6aa6b46b</td>\n",
       "      <td>5722d144-e45a-4e5a-9517-c37cd1abbc07</td>\n",
       "      <td>Unauthorized Transaction</td>\n",
       "      <td>2025-01-22 07:10:55</td>\n",
       "      <td>Investigating</td>\n",
       "    </tr>\n",
       "    <tr>\n",
       "      <th>13</th>\n",
       "      <td>5be84ef7-df29-4b2d-b2df-ca63f7c22fa6</td>\n",
       "      <td>b54028f0-48d1-467e-8208-4fcba09eec29</td>\n",
       "      <td>Unauthorized Transaction</td>\n",
       "      <td>2025-01-29 20:35:23</td>\n",
       "      <td>Investigating</td>\n",
       "    </tr>\n",
       "    <tr>\n",
       "      <th>14</th>\n",
       "      <td>0d044f8a-ace0-42a6-a639-3d01247468b5</td>\n",
       "      <td>44cfa354-f13e-4421-92ce-fdc9bda4a909</td>\n",
       "      <td>Phishing</td>\n",
       "      <td>2025-01-12 12:13:12</td>\n",
       "      <td>Investigating</td>\n",
       "    </tr>\n",
       "  </tbody>\n",
       "</table>\n",
       "</div>"
      ],
      "text/plain": [
       "                             incident_id  \\\n",
       "0   e1e7e879-633f-4a41-b772-6bedfaa7dbf2   \n",
       "1   bfae4b1a-0377-4ff6-b21b-328d6e4ab0f0   \n",
       "2   deb8d7e9-2156-4e24-85c0-b42793ac8907   \n",
       "3   d5b70a52-3fad-4767-b505-f72ee10d545c   \n",
       "4   b0ab2c00-b44a-47eb-a5dd-cc5495430e70   \n",
       "5   fef00ac4-cc09-4ff7-92e5-63d18a9ddff1   \n",
       "6   fef766c1-7bce-443a-b795-6202557787b5   \n",
       "7   7bf71c51-6605-47fc-aa04-a2fb3f66360e   \n",
       "8   df3f1073-95f4-42ec-a35c-a01365f3fea3   \n",
       "9   f198373c-3958-45fe-838e-043b714d11bc   \n",
       "10  933e378a-72b4-43a6-bea0-82be4367f21e   \n",
       "11  e4b04da3-24dc-42cf-aa01-635faa9ebbc6   \n",
       "12  c383f3e8-acf6-4817-9abf-b1ab6aa6b46b   \n",
       "13  5be84ef7-df29-4b2d-b2df-ca63f7c22fa6   \n",
       "14  0d044f8a-ace0-42a6-a639-3d01247468b5   \n",
       "\n",
       "                             customer_id             incident_type  \\\n",
       "0   74d9f031-8a84-4f87-a6c5-2ea1b6cfb9fc                  Phishing   \n",
       "1   338a469c-ccbc-4d7c-b135-ebf72818aca4                  Phishing   \n",
       "2   b315fa7e-d189-4487-b5dd-e4b76fea4812  Unauthorized Transaction   \n",
       "3   d7f96e0c-f4ea-4e84-9de0-54eeb2b2bda8                  Phishing   \n",
       "4   96a88cb3-d3e3-4de8-9beb-3a2fcefc37d6  Unauthorized Transaction   \n",
       "5   250d707b-cdeb-4cad-a850-54fe5801e9a9                  Phishing   \n",
       "6   1fe641c4-7c3c-4ec0-9c6f-ff5d5306ab82  Unauthorized Transaction   \n",
       "7   03422825-1990-4b8f-b524-72d34282abd0  Unauthorized Transaction   \n",
       "8   fa241bbc-bbd1-430b-9fdf-1121d957e808                  Phishing   \n",
       "9   f98c1bc8-9518-4a7b-94be-b3784cdac82f                  Phishing   \n",
       "10  85669759-6c8f-4f0b-921f-b3a64abc1128                  Phishing   \n",
       "11  38709086-5cdb-412d-bc9f-25785a8f0a5e            Account Breach   \n",
       "12  5722d144-e45a-4e5a-9517-c37cd1abbc07  Unauthorized Transaction   \n",
       "13  b54028f0-48d1-467e-8208-4fcba09eec29  Unauthorized Transaction   \n",
       "14  44cfa354-f13e-4421-92ce-fdc9bda4a909                  Phishing   \n",
       "\n",
       "          incident_date         status  \n",
       "0   2025-01-29 16:34:53  Investigating  \n",
       "1   2025-02-11 22:31:38       Resolved  \n",
       "2   2025-01-16 19:32:44       Resolved  \n",
       "3   2025-02-07 13:47:32       Resolved  \n",
       "4   2025-02-27 07:18:02        Pending  \n",
       "5   2025-03-21 15:19:48       Resolved  \n",
       "6   2025-01-15 06:59:07        Pending  \n",
       "7   2025-01-17 02:55:32        Pending  \n",
       "8   2025-01-16 12:28:51        Pending  \n",
       "9   2025-02-24 09:02:05  Investigating  \n",
       "10  2025-01-21 04:54:46  Investigating  \n",
       "11  2025-01-29 23:17:46        Pending  \n",
       "12  2025-01-22 07:10:55  Investigating  \n",
       "13  2025-01-29 20:35:23  Investigating  \n",
       "14  2025-01-12 12:13:12  Investigating  "
      ]
     },
     "execution_count": 3,
     "metadata": {},
     "output_type": "execute_result"
    }
   ],
   "source": [
    "df.head(15)"
   ]
  },
  {
   "cell_type": "code",
   "execution_count": 4,
   "metadata": {},
   "outputs": [
    {
     "name": "stdout",
     "output_type": "stream",
     "text": [
      "incident_id      0\n",
      "customer_id      0\n",
      "incident_type    0\n",
      "incident_date    0\n",
      "status           0\n",
      "dtype: int64\n"
     ]
    }
   ],
   "source": [
    "# 1. Check for missing values\n",
    "print(df.isnull().sum())"
   ]
  },
  {
   "cell_type": "code",
   "execution_count": 5,
   "metadata": {},
   "outputs": [
    {
     "name": "stdout",
     "output_type": "stream",
     "text": [
      "0\n"
     ]
    }
   ],
   "source": [
    "# 2. Check for duplicates\n",
    "print(df.duplicated().sum())"
   ]
  },
  {
   "cell_type": "code",
   "execution_count": 6,
   "metadata": {},
   "outputs": [
    {
     "name": "stdout",
     "output_type": "stream",
     "text": [
      "incident_id      object\n",
      "customer_id      object\n",
      "incident_type    object\n",
      "incident_date    object\n",
      "status           object\n",
      "dtype: object\n"
     ]
    }
   ],
   "source": [
    "# 3. Check for data types\n",
    "print(df.dtypes)"
   ]
  },
  {
   "cell_type": "code",
   "execution_count": 7,
   "metadata": {},
   "outputs": [
    {
     "name": "stdout",
     "output_type": "stream",
     "text": [
      "incident_id      40000\n",
      "customer_id      32965\n",
      "incident_type        3\n",
      "incident_date    39885\n",
      "status               3\n",
      "dtype: int64\n"
     ]
    }
   ],
   "source": [
    "# 4. Check for unique values\n",
    "print(df.nunique())"
   ]
  },
  {
   "cell_type": "code",
   "execution_count": 8,
   "metadata": {},
   "outputs": [
    {
     "data": {
      "text/html": [
       "<div>\n",
       "<style scoped>\n",
       "    .dataframe tbody tr th:only-of-type {\n",
       "        vertical-align: middle;\n",
       "    }\n",
       "\n",
       "    .dataframe tbody tr th {\n",
       "        vertical-align: top;\n",
       "    }\n",
       "\n",
       "    .dataframe thead th {\n",
       "        text-align: right;\n",
       "    }\n",
       "</style>\n",
       "<table border=\"1\" class=\"dataframe\">\n",
       "  <thead>\n",
       "    <tr style=\"text-align: right;\">\n",
       "      <th></th>\n",
       "      <th>incident_id</th>\n",
       "      <th>customer_id</th>\n",
       "      <th>incident_type</th>\n",
       "      <th>incident_date</th>\n",
       "      <th>status</th>\n",
       "    </tr>\n",
       "  </thead>\n",
       "  <tbody>\n",
       "    <tr>\n",
       "      <th>count</th>\n",
       "      <td>40000</td>\n",
       "      <td>40000</td>\n",
       "      <td>40000</td>\n",
       "      <td>40000</td>\n",
       "      <td>40000</td>\n",
       "    </tr>\n",
       "    <tr>\n",
       "      <th>unique</th>\n",
       "      <td>40000</td>\n",
       "      <td>32965</td>\n",
       "      <td>3</td>\n",
       "      <td>39885</td>\n",
       "      <td>3</td>\n",
       "    </tr>\n",
       "    <tr>\n",
       "      <th>top</th>\n",
       "      <td>e1e7e879-633f-4a41-b772-6bedfaa7dbf2</td>\n",
       "      <td>da00d149-7902-4b5e-b12e-229e918b5345</td>\n",
       "      <td>Unauthorized Transaction</td>\n",
       "      <td>2025-01-01 11:22:34</td>\n",
       "      <td>Investigating</td>\n",
       "    </tr>\n",
       "    <tr>\n",
       "      <th>freq</th>\n",
       "      <td>1</td>\n",
       "      <td>6</td>\n",
       "      <td>13452</td>\n",
       "      <td>2</td>\n",
       "      <td>13446</td>\n",
       "    </tr>\n",
       "  </tbody>\n",
       "</table>\n",
       "</div>"
      ],
      "text/plain": [
       "                                 incident_id  \\\n",
       "count                                  40000   \n",
       "unique                                 40000   \n",
       "top     e1e7e879-633f-4a41-b772-6bedfaa7dbf2   \n",
       "freq                                       1   \n",
       "\n",
       "                                 customer_id             incident_type  \\\n",
       "count                                  40000                     40000   \n",
       "unique                                 32965                         3   \n",
       "top     da00d149-7902-4b5e-b12e-229e918b5345  Unauthorized Transaction   \n",
       "freq                                       6                     13452   \n",
       "\n",
       "              incident_date         status  \n",
       "count                 40000          40000  \n",
       "unique                39885              3  \n",
       "top     2025-01-01 11:22:34  Investigating  \n",
       "freq                      2          13446  "
      ]
     },
     "execution_count": 8,
     "metadata": {},
     "output_type": "execute_result"
    }
   ],
   "source": [
    "# 5. Check for the distribution of numerical columns\n",
    "df.describe()"
   ]
  },
  {
   "cell_type": "code",
   "execution_count": 12,
   "metadata": {},
   "outputs": [
    {
     "name": "stdout",
     "output_type": "stream",
     "text": [
      "incident_id              object\n",
      "customer_id              object\n",
      "incident_type            object\n",
      "incident_date    datetime64[ns]\n",
      "status                   object\n",
      "dtype: object\n"
     ]
    }
   ],
   "source": [
    "df['incident_date'] = pd.to_datetime(df['incident_date'], errors='coerce')\n",
    "\n",
    "# Verify changes\n",
    "print(df.dtypes)"
   ]
  },
  {
   "cell_type": "code",
   "execution_count": 14,
   "metadata": {},
   "outputs": [
    {
     "name": "stdout",
     "output_type": "stream",
     "text": [
      "Numerical columns: Index([], dtype='object')\n"
     ]
    }
   ],
   "source": [
    "# Check numerical columns\n",
    "num_cols = df.select_dtypes(include=[np.number]).columns\n",
    "print(\"Numerical columns:\", num_cols)\n"
   ]
  },
  {
   "cell_type": "code",
   "execution_count": null,
   "metadata": {},
   "outputs": [],
   "source": [
    "### It means there is no numerical column in fraud incidents dataset. So, we will skip this step. There is no outlier detection needed for this dataset."
   ]
  }
 ],
 "metadata": {
  "kernelspec": {
   "display_name": "reg",
   "language": "python",
   "name": "python3"
  },
  "language_info": {
   "codemirror_mode": {
    "name": "ipython",
    "version": 3
   },
   "file_extension": ".py",
   "mimetype": "text/x-python",
   "name": "python",
   "nbconvert_exporter": "python",
   "pygments_lexer": "ipython3",
   "version": "3.12.4"
  }
 },
 "nbformat": 4,
 "nbformat_minor": 2
}
