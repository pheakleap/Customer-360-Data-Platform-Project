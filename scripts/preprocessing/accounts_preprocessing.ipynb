{
 "cells": [
  {
   "cell_type": "markdown",
   "metadata": {},
   "source": [
    "## Data Preprocessing"
   ]
  },
  {
   "cell_type": "code",
   "execution_count": 2,
   "metadata": {},
   "outputs": [],
   "source": [
    "import pandas as pd\n",
    "import numpy as np\n",
    "import matplotlib.pyplot as plt\n",
    "import seaborn as sns"
   ]
  },
  {
   "cell_type": "markdown",
   "metadata": {},
   "source": [
    "### EDA"
   ]
  },
  {
   "cell_type": "code",
   "execution_count": 4,
   "metadata": {},
   "outputs": [],
   "source": [
    "df = pd.read_csv(\"../../ETL/data/accounts.csv\")"
   ]
  },
  {
   "cell_type": "code",
   "execution_count": 14,
   "metadata": {},
   "outputs": [
    {
     "data": {
      "text/html": [
       "<div>\n",
       "<style scoped>\n",
       "    .dataframe tbody tr th:only-of-type {\n",
       "        vertical-align: middle;\n",
       "    }\n",
       "\n",
       "    .dataframe tbody tr th {\n",
       "        vertical-align: top;\n",
       "    }\n",
       "\n",
       "    .dataframe thead th {\n",
       "        text-align: right;\n",
       "    }\n",
       "</style>\n",
       "<table border=\"1\" class=\"dataframe\">\n",
       "  <thead>\n",
       "    <tr style=\"text-align: right;\">\n",
       "      <th></th>\n",
       "      <th>account_id</th>\n",
       "      <th>customer_id</th>\n",
       "      <th>account_type</th>\n",
       "      <th>account_balance</th>\n",
       "      <th>currency</th>\n",
       "      <th>created_at</th>\n",
       "    </tr>\n",
       "  </thead>\n",
       "  <tbody>\n",
       "    <tr>\n",
       "      <th>0</th>\n",
       "      <td>e84f0a27-3af5-4c75-83b4-ed8ac03d7818</td>\n",
       "      <td>0600cf21-8e9d-4b88-9c6f-7b4cbe1987d8</td>\n",
       "      <td>Checking</td>\n",
       "      <td>4167.68</td>\n",
       "      <td>USD</td>\n",
       "      <td>2025-03-21 15:03:26</td>\n",
       "    </tr>\n",
       "    <tr>\n",
       "      <th>1</th>\n",
       "      <td>edc47a1c-f967-48dc-80e6-6a53bbcc8b8b</td>\n",
       "      <td>36b44e1b-a808-45b3-996b-da1a662656d1</td>\n",
       "      <td>Checking</td>\n",
       "      <td>27912.49</td>\n",
       "      <td>USD</td>\n",
       "      <td>2025-03-21 15:03:26</td>\n",
       "    </tr>\n",
       "    <tr>\n",
       "      <th>2</th>\n",
       "      <td>d547d6e9-b2db-4e6e-9a95-eeff8ba48f2d</td>\n",
       "      <td>1c7a7887-f014-413a-92aa-ff953f48a80b</td>\n",
       "      <td>Checking</td>\n",
       "      <td>12375.68</td>\n",
       "      <td>USD</td>\n",
       "      <td>2025-03-21 15:03:26</td>\n",
       "    </tr>\n",
       "    <tr>\n",
       "      <th>3</th>\n",
       "      <td>3ac5ba04-0f8a-44c1-b071-e83ffad75974</td>\n",
       "      <td>8edf0514-7e93-40bb-920b-802a41b982eb</td>\n",
       "      <td>Savings</td>\n",
       "      <td>20239.97</td>\n",
       "      <td>USD</td>\n",
       "      <td>2025-03-21 15:03:26</td>\n",
       "    </tr>\n",
       "    <tr>\n",
       "      <th>4</th>\n",
       "      <td>a8412299-a9ab-4b51-a71b-ee8be4199136</td>\n",
       "      <td>01e14eee-6af8-40f1-8961-9f534ee3de3f</td>\n",
       "      <td>Business</td>\n",
       "      <td>37535.04</td>\n",
       "      <td>USD</td>\n",
       "      <td>2025-03-21 15:03:26</td>\n",
       "    </tr>\n",
       "    <tr>\n",
       "      <th>5</th>\n",
       "      <td>a4efcb4c-366d-4ae2-8a6b-28da35c47d50</td>\n",
       "      <td>175a3f9a-d794-4f79-81d9-0ad69dd1549e</td>\n",
       "      <td>Business</td>\n",
       "      <td>69036.53</td>\n",
       "      <td>USD</td>\n",
       "      <td>2025-03-21 15:03:26</td>\n",
       "    </tr>\n",
       "    <tr>\n",
       "      <th>6</th>\n",
       "      <td>5a6dd039-ec17-460b-92b1-de71274c95f1</td>\n",
       "      <td>8917d67e-09a8-4c4b-8784-895f092c1abe</td>\n",
       "      <td>Business</td>\n",
       "      <td>64065.29</td>\n",
       "      <td>USD</td>\n",
       "      <td>2025-03-21 15:03:26</td>\n",
       "    </tr>\n",
       "    <tr>\n",
       "      <th>7</th>\n",
       "      <td>48f9dbc7-34f6-4d95-944c-901b2dc9c708</td>\n",
       "      <td>f9d2084b-ada8-4337-af53-a9187798501c</td>\n",
       "      <td>Checking</td>\n",
       "      <td>41426.49</td>\n",
       "      <td>USD</td>\n",
       "      <td>2025-03-21 15:03:26</td>\n",
       "    </tr>\n",
       "    <tr>\n",
       "      <th>8</th>\n",
       "      <td>83feb658-64b1-41b1-9b35-86a4e3ba1f26</td>\n",
       "      <td>e886556f-b861-4901-8fa5-4194d3739560</td>\n",
       "      <td>Savings</td>\n",
       "      <td>48361.62</td>\n",
       "      <td>USD</td>\n",
       "      <td>2025-03-21 15:03:26</td>\n",
       "    </tr>\n",
       "    <tr>\n",
       "      <th>9</th>\n",
       "      <td>3fa52e9c-6987-4687-b1a6-88eda6a94f7b</td>\n",
       "      <td>c20829ec-0c1b-4f24-88c0-e119ca8da00b</td>\n",
       "      <td>Business</td>\n",
       "      <td>64205.61</td>\n",
       "      <td>USD</td>\n",
       "      <td>2025-03-21 15:03:26</td>\n",
       "    </tr>\n",
       "    <tr>\n",
       "      <th>10</th>\n",
       "      <td>4d34f4e9-25f9-40e7-9f2e-8aa9f79e7b79</td>\n",
       "      <td>7b79676d-2920-4d3f-8740-7e910eb1cb0c</td>\n",
       "      <td>Business</td>\n",
       "      <td>16193.22</td>\n",
       "      <td>USD</td>\n",
       "      <td>2025-03-21 15:03:26</td>\n",
       "    </tr>\n",
       "    <tr>\n",
       "      <th>11</th>\n",
       "      <td>fae9507d-de29-4ff8-b12a-337aac86833b</td>\n",
       "      <td>5740cda0-0e04-4a4b-8240-46a07ed9da0e</td>\n",
       "      <td>Checking</td>\n",
       "      <td>67587.69</td>\n",
       "      <td>USD</td>\n",
       "      <td>2025-03-21 15:03:26</td>\n",
       "    </tr>\n",
       "    <tr>\n",
       "      <th>12</th>\n",
       "      <td>5c99cd7d-cbbb-4fdc-8121-e5ddd6524eb4</td>\n",
       "      <td>cb99718d-2ffb-4b4f-ad29-1ff285340118</td>\n",
       "      <td>Business</td>\n",
       "      <td>41081.04</td>\n",
       "      <td>USD</td>\n",
       "      <td>2025-03-21 15:03:26</td>\n",
       "    </tr>\n",
       "    <tr>\n",
       "      <th>13</th>\n",
       "      <td>045a4145-0e85-4db7-bac5-41940cd34920</td>\n",
       "      <td>8c4d21f8-7978-4b3b-8586-743ce956a4b0</td>\n",
       "      <td>Savings</td>\n",
       "      <td>30308.82</td>\n",
       "      <td>USD</td>\n",
       "      <td>2025-03-21 15:03:26</td>\n",
       "    </tr>\n",
       "    <tr>\n",
       "      <th>14</th>\n",
       "      <td>50373011-c9b0-4977-9a1c-22d3749b7a09</td>\n",
       "      <td>5aedcf28-ec98-4995-8d34-70db141a8231</td>\n",
       "      <td>Savings</td>\n",
       "      <td>74397.30</td>\n",
       "      <td>USD</td>\n",
       "      <td>2025-03-21 15:03:26</td>\n",
       "    </tr>\n",
       "  </tbody>\n",
       "</table>\n",
       "</div>"
      ],
      "text/plain": [
       "                              account_id  \\\n",
       "0   e84f0a27-3af5-4c75-83b4-ed8ac03d7818   \n",
       "1   edc47a1c-f967-48dc-80e6-6a53bbcc8b8b   \n",
       "2   d547d6e9-b2db-4e6e-9a95-eeff8ba48f2d   \n",
       "3   3ac5ba04-0f8a-44c1-b071-e83ffad75974   \n",
       "4   a8412299-a9ab-4b51-a71b-ee8be4199136   \n",
       "5   a4efcb4c-366d-4ae2-8a6b-28da35c47d50   \n",
       "6   5a6dd039-ec17-460b-92b1-de71274c95f1   \n",
       "7   48f9dbc7-34f6-4d95-944c-901b2dc9c708   \n",
       "8   83feb658-64b1-41b1-9b35-86a4e3ba1f26   \n",
       "9   3fa52e9c-6987-4687-b1a6-88eda6a94f7b   \n",
       "10  4d34f4e9-25f9-40e7-9f2e-8aa9f79e7b79   \n",
       "11  fae9507d-de29-4ff8-b12a-337aac86833b   \n",
       "12  5c99cd7d-cbbb-4fdc-8121-e5ddd6524eb4   \n",
       "13  045a4145-0e85-4db7-bac5-41940cd34920   \n",
       "14  50373011-c9b0-4977-9a1c-22d3749b7a09   \n",
       "\n",
       "                             customer_id account_type  account_balance  \\\n",
       "0   0600cf21-8e9d-4b88-9c6f-7b4cbe1987d8     Checking          4167.68   \n",
       "1   36b44e1b-a808-45b3-996b-da1a662656d1     Checking         27912.49   \n",
       "2   1c7a7887-f014-413a-92aa-ff953f48a80b     Checking         12375.68   \n",
       "3   8edf0514-7e93-40bb-920b-802a41b982eb      Savings         20239.97   \n",
       "4   01e14eee-6af8-40f1-8961-9f534ee3de3f     Business         37535.04   \n",
       "5   175a3f9a-d794-4f79-81d9-0ad69dd1549e     Business         69036.53   \n",
       "6   8917d67e-09a8-4c4b-8784-895f092c1abe     Business         64065.29   \n",
       "7   f9d2084b-ada8-4337-af53-a9187798501c     Checking         41426.49   \n",
       "8   e886556f-b861-4901-8fa5-4194d3739560      Savings         48361.62   \n",
       "9   c20829ec-0c1b-4f24-88c0-e119ca8da00b     Business         64205.61   \n",
       "10  7b79676d-2920-4d3f-8740-7e910eb1cb0c     Business         16193.22   \n",
       "11  5740cda0-0e04-4a4b-8240-46a07ed9da0e     Checking         67587.69   \n",
       "12  cb99718d-2ffb-4b4f-ad29-1ff285340118     Business         41081.04   \n",
       "13  8c4d21f8-7978-4b3b-8586-743ce956a4b0      Savings         30308.82   \n",
       "14  5aedcf28-ec98-4995-8d34-70db141a8231      Savings         74397.30   \n",
       "\n",
       "   currency           created_at  \n",
       "0       USD  2025-03-21 15:03:26  \n",
       "1       USD  2025-03-21 15:03:26  \n",
       "2       USD  2025-03-21 15:03:26  \n",
       "3       USD  2025-03-21 15:03:26  \n",
       "4       USD  2025-03-21 15:03:26  \n",
       "5       USD  2025-03-21 15:03:26  \n",
       "6       USD  2025-03-21 15:03:26  \n",
       "7       USD  2025-03-21 15:03:26  \n",
       "8       USD  2025-03-21 15:03:26  \n",
       "9       USD  2025-03-21 15:03:26  \n",
       "10      USD  2025-03-21 15:03:26  \n",
       "11      USD  2025-03-21 15:03:26  \n",
       "12      USD  2025-03-21 15:03:26  \n",
       "13      USD  2025-03-21 15:03:26  \n",
       "14      USD  2025-03-21 15:03:26  "
      ]
     },
     "execution_count": 14,
     "metadata": {},
     "output_type": "execute_result"
    }
   ],
   "source": [
    "df.head(15)"
   ]
  },
  {
   "cell_type": "code",
   "execution_count": 5,
   "metadata": {},
   "outputs": [
    {
     "name": "stdout",
     "output_type": "stream",
     "text": [
      "account_id         0\n",
      "customer_id        0\n",
      "account_type       0\n",
      "account_balance    0\n",
      "currency           0\n",
      "created_at         0\n",
      "dtype: int64\n"
     ]
    }
   ],
   "source": [
    "# 1. Check for missing values\n",
    "print(df.isnull().sum())"
   ]
  },
  {
   "cell_type": "code",
   "execution_count": 6,
   "metadata": {},
   "outputs": [
    {
     "name": "stdout",
     "output_type": "stream",
     "text": [
      "0\n"
     ]
    }
   ],
   "source": [
    "# 2. Check for duplicates\n",
    "print(df.duplicated().sum())"
   ]
  },
  {
   "cell_type": "code",
   "execution_count": 7,
   "metadata": {},
   "outputs": [
    {
     "name": "stdout",
     "output_type": "stream",
     "text": [
      "account_id          object\n",
      "customer_id         object\n",
      "account_type        object\n",
      "account_balance    float64\n",
      "currency            object\n",
      "created_at          object\n",
      "dtype: object\n"
     ]
    }
   ],
   "source": [
    "# 3. Check for data types\n",
    "print(df.dtypes)"
   ]
  },
  {
   "cell_type": "code",
   "execution_count": 8,
   "metadata": {},
   "outputs": [
    {
     "name": "stdout",
     "output_type": "stream",
     "text": [
      "account_id         100000\n",
      "customer_id        100000\n",
      "account_type            3\n",
      "account_balance     99511\n",
      "currency                1\n",
      "created_at              2\n",
      "dtype: int64\n"
     ]
    }
   ],
   "source": [
    "# 4. Check for unique values\n",
    "print(df.nunique())"
   ]
  },
  {
   "cell_type": "code",
   "execution_count": null,
   "metadata": {},
   "outputs": [
    {
     "name": "stdout",
     "output_type": "stream",
     "text": [
      "100000\n"
     ]
    }
   ],
   "source": [
    "print(df['account_id'].nunique())  # Should also be 100,000\n",
    "# If less than 100,000, there are duplicates.\n"
   ]
  },
  {
   "cell_type": "code",
   "execution_count": 9,
   "metadata": {},
   "outputs": [
    {
     "data": {
      "text/html": [
       "<div>\n",
       "<style scoped>\n",
       "    .dataframe tbody tr th:only-of-type {\n",
       "        vertical-align: middle;\n",
       "    }\n",
       "\n",
       "    .dataframe tbody tr th {\n",
       "        vertical-align: top;\n",
       "    }\n",
       "\n",
       "    .dataframe thead th {\n",
       "        text-align: right;\n",
       "    }\n",
       "</style>\n",
       "<table border=\"1\" class=\"dataframe\">\n",
       "  <thead>\n",
       "    <tr style=\"text-align: right;\">\n",
       "      <th></th>\n",
       "      <th>account_balance</th>\n",
       "    </tr>\n",
       "  </thead>\n",
       "  <tbody>\n",
       "    <tr>\n",
       "      <th>count</th>\n",
       "      <td>100000.000000</td>\n",
       "    </tr>\n",
       "    <tr>\n",
       "      <th>mean</th>\n",
       "      <td>50041.675897</td>\n",
       "    </tr>\n",
       "    <tr>\n",
       "      <th>std</th>\n",
       "      <td>28838.763730</td>\n",
       "    </tr>\n",
       "    <tr>\n",
       "      <th>min</th>\n",
       "      <td>100.020000</td>\n",
       "    </tr>\n",
       "    <tr>\n",
       "      <th>25%</th>\n",
       "      <td>24999.340000</td>\n",
       "    </tr>\n",
       "    <tr>\n",
       "      <th>50%</th>\n",
       "      <td>50152.240000</td>\n",
       "    </tr>\n",
       "    <tr>\n",
       "      <th>75%</th>\n",
       "      <td>75060.197500</td>\n",
       "    </tr>\n",
       "    <tr>\n",
       "      <th>max</th>\n",
       "      <td>99999.420000</td>\n",
       "    </tr>\n",
       "  </tbody>\n",
       "</table>\n",
       "</div>"
      ],
      "text/plain": [
       "       account_balance\n",
       "count    100000.000000\n",
       "mean      50041.675897\n",
       "std       28838.763730\n",
       "min         100.020000\n",
       "25%       24999.340000\n",
       "50%       50152.240000\n",
       "75%       75060.197500\n",
       "max       99999.420000"
      ]
     },
     "execution_count": 9,
     "metadata": {},
     "output_type": "execute_result"
    }
   ],
   "source": [
    "# 5. Check for the distribution of numerical columns\n",
    "df.describe()"
   ]
  },
  {
   "cell_type": "code",
   "execution_count": 16,
   "metadata": {},
   "outputs": [
    {
     "name": "stdout",
     "output_type": "stream",
     "text": [
      "account_id                 object\n",
      "customer_id                object\n",
      "account_type               object\n",
      "account_balance           float64\n",
      "currency                   object\n",
      "created_at         datetime64[ns]\n",
      "dtype: object\n"
     ]
    }
   ],
   "source": [
    "df['created_at'] = pd.to_datetime(df['created_at'], errors='coerce')\n",
    "\n",
    "# Verify changes\n",
    "print(df.dtypes)"
   ]
  },
  {
   "cell_type": "markdown",
   "metadata": {},
   "source": [
    "### Handle Outliers (IQR Method)"
   ]
  },
  {
   "cell_type": "code",
   "execution_count": 13,
   "metadata": {},
   "outputs": [
    {
     "name": "stdout",
     "output_type": "stream",
     "text": [
      "-50091.94625000001 150151.48375\n"
     ]
    }
   ],
   "source": [
    "Q1 = df['account_balance'].quantile(0.25)\n",
    "Q3 = df['account_balance'].quantile(0.75)\n",
    "IQR = Q3 - Q1\n",
    "lower_bound = Q1 - 1.5 * IQR\n",
    "upper_bound = Q3 + 1.5 * IQR\n",
    "print(lower_bound, upper_bound)\n"
   ]
  },
  {
   "cell_type": "markdown",
   "metadata": {},
   "source": [
    "### Your account_balance column has no outliers based on the IQR method. The data is well-distributed.\n",
    "Explanation: \n",
    "Negative Lower Bound (-50091.95): A negative balance makes no sense for a typical account balance if it's not supposed to allow overdrafts.\n",
    "However, it being negative indicates that there are no negative values in your data — all positive balances fall above the lower bound.\n",
    "\n",
    "No outliers on the lower side.\n",
    "\n",
    "Upper Bound (150151.48):The maximum value in your data is 99,999.42, which is well below the upper bound.\n",
    "\n",
    "No outliers on the upper side."
   ]
  },
  {
   "cell_type": "code",
   "execution_count": 12,
   "metadata": {},
   "outputs": [
    {
     "name": "stdout",
     "output_type": "stream",
     "text": [
      "Numerical columns: Index(['account_balance'], dtype='object')\n"
     ]
    }
   ],
   "source": [
    "# Check numerical columns\n",
    "num_cols = df.select_dtypes(include=[np.number]).columns\n",
    "print(\"Numerical columns:\", num_cols)\n"
   ]
  },
  {
   "cell_type": "code",
   "execution_count": null,
   "metadata": {},
   "outputs": [],
   "source": [
    "####"
   ]
  },
  {
   "cell_type": "code",
   "execution_count": null,
   "metadata": {},
   "outputs": [],
   "source": []
  }
 ],
 "metadata": {
  "kernelspec": {
   "display_name": "reg",
   "language": "python",
   "name": "python3"
  },
  "language_info": {
   "codemirror_mode": {
    "name": "ipython",
    "version": 3
   },
   "file_extension": ".py",
   "mimetype": "text/x-python",
   "name": "python",
   "nbconvert_exporter": "python",
   "pygments_lexer": "ipython3",
   "version": "3.12.4"
  }
 },
 "nbformat": 4,
 "nbformat_minor": 2
}
