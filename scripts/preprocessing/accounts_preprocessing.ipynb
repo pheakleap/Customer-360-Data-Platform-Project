{
 "cells": [
  {
   "cell_type": "markdown",
   "metadata": {},
   "source": [
    "## Data Preprocessing"
   ]
  },
  {
   "cell_type": "code",
   "execution_count": 1,
   "metadata": {},
   "outputs": [],
   "source": [
    "import pandas as pd\n",
    "import numpy as np\n",
    "import matplotlib.pyplot as plt\n",
    "import seaborn as sns"
   ]
  },
  {
   "cell_type": "markdown",
   "metadata": {},
   "source": [
    "### EDA"
   ]
  },
  {
   "cell_type": "code",
   "execution_count": 2,
   "metadata": {},
   "outputs": [],
   "source": [
    "df = pd.read_csv(\"../../ETL/data/accounts.csv\")"
   ]
  },
  {
   "cell_type": "code",
   "execution_count": 3,
   "metadata": {},
   "outputs": [
    {
     "data": {
      "text/html": [
       "<div>\n",
       "<style scoped>\n",
       "    .dataframe tbody tr th:only-of-type {\n",
       "        vertical-align: middle;\n",
       "    }\n",
       "\n",
       "    .dataframe tbody tr th {\n",
       "        vertical-align: top;\n",
       "    }\n",
       "\n",
       "    .dataframe thead th {\n",
       "        text-align: right;\n",
       "    }\n",
       "</style>\n",
       "<table border=\"1\" class=\"dataframe\">\n",
       "  <thead>\n",
       "    <tr style=\"text-align: right;\">\n",
       "      <th></th>\n",
       "      <th>account_id</th>\n",
       "      <th>customer_id</th>\n",
       "      <th>account_type</th>\n",
       "      <th>account_balance</th>\n",
       "      <th>currency</th>\n",
       "      <th>created_at</th>\n",
       "    </tr>\n",
       "  </thead>\n",
       "  <tbody>\n",
       "    <tr>\n",
       "      <th>0</th>\n",
       "      <td>91c4c77d-994c-47af-a4f9-818358468803</td>\n",
       "      <td>e91b4955-3450-446e-a203-7b54e796259d</td>\n",
       "      <td>Savings</td>\n",
       "      <td>83009.85</td>\n",
       "      <td>USD</td>\n",
       "      <td>2025-03-22 17:07:12</td>\n",
       "    </tr>\n",
       "    <tr>\n",
       "      <th>1</th>\n",
       "      <td>d91f757c-6208-4333-a42d-6da7f74adf68</td>\n",
       "      <td>b46d5435-4f11-4fec-a8e8-569e6f608cae</td>\n",
       "      <td>Checking</td>\n",
       "      <td>95387.39</td>\n",
       "      <td>USD</td>\n",
       "      <td>2025-03-22 17:07:12</td>\n",
       "    </tr>\n",
       "    <tr>\n",
       "      <th>2</th>\n",
       "      <td>32da0ff3-74b0-425d-a870-f4312053a810</td>\n",
       "      <td>549b98fd-7562-4b8e-81dc-bc36b8a4bb8e</td>\n",
       "      <td>Business</td>\n",
       "      <td>48961.79</td>\n",
       "      <td>USD</td>\n",
       "      <td>2025-03-22 17:07:12</td>\n",
       "    </tr>\n",
       "    <tr>\n",
       "      <th>3</th>\n",
       "      <td>c571976d-4b02-4001-b1e6-6481c8d00345</td>\n",
       "      <td>ff34f1c1-5728-4395-bbad-cf7f19aedae3</td>\n",
       "      <td>Business</td>\n",
       "      <td>3611.35</td>\n",
       "      <td>USD</td>\n",
       "      <td>2025-03-22 17:07:12</td>\n",
       "    </tr>\n",
       "    <tr>\n",
       "      <th>4</th>\n",
       "      <td>27def753-9b09-4cc4-a5fa-b06f2e19da11</td>\n",
       "      <td>50177ad2-e8e6-42af-8541-f96079453d92</td>\n",
       "      <td>Business</td>\n",
       "      <td>92351.62</td>\n",
       "      <td>USD</td>\n",
       "      <td>2025-03-22 17:07:12</td>\n",
       "    </tr>\n",
       "    <tr>\n",
       "      <th>5</th>\n",
       "      <td>36e1e9f3-a79c-441d-afa6-c92b7ce2593d</td>\n",
       "      <td>ded811e2-cd52-42c5-ba89-6c4636f4578c</td>\n",
       "      <td>Savings</td>\n",
       "      <td>85434.47</td>\n",
       "      <td>USD</td>\n",
       "      <td>2025-03-22 17:07:12</td>\n",
       "    </tr>\n",
       "    <tr>\n",
       "      <th>6</th>\n",
       "      <td>e8594fed-8712-4fb9-b990-598962f66584</td>\n",
       "      <td>a64e3d75-86e2-4e43-a287-4a00b669e4f4</td>\n",
       "      <td>Checking</td>\n",
       "      <td>70568.10</td>\n",
       "      <td>USD</td>\n",
       "      <td>2025-03-22 17:07:12</td>\n",
       "    </tr>\n",
       "    <tr>\n",
       "      <th>7</th>\n",
       "      <td>4bf31b3a-3753-49bd-b6ce-a81d8e5a59d3</td>\n",
       "      <td>8c3b0d76-9e73-477a-9443-fd0d17221698</td>\n",
       "      <td>Savings</td>\n",
       "      <td>30022.16</td>\n",
       "      <td>USD</td>\n",
       "      <td>2025-03-22 17:07:12</td>\n",
       "    </tr>\n",
       "    <tr>\n",
       "      <th>8</th>\n",
       "      <td>7c0967cf-453f-4e05-82be-928dbfe534a2</td>\n",
       "      <td>bd41de0e-8887-400a-9aba-65fcf471e291</td>\n",
       "      <td>Business</td>\n",
       "      <td>99031.29</td>\n",
       "      <td>USD</td>\n",
       "      <td>2025-03-22 17:07:12</td>\n",
       "    </tr>\n",
       "    <tr>\n",
       "      <th>9</th>\n",
       "      <td>3f01d11c-6a4b-404e-b323-c3c5764de45f</td>\n",
       "      <td>2523fe1c-5d50-445c-87d4-bae294f8f773</td>\n",
       "      <td>Checking</td>\n",
       "      <td>83989.63</td>\n",
       "      <td>USD</td>\n",
       "      <td>2025-03-22 17:07:12</td>\n",
       "    </tr>\n",
       "    <tr>\n",
       "      <th>10</th>\n",
       "      <td>3687a0ca-4dda-4530-a9b6-0be3baaccd6e</td>\n",
       "      <td>4783e39c-9150-4be4-a51d-fbc4bebe844b</td>\n",
       "      <td>Savings</td>\n",
       "      <td>3547.27</td>\n",
       "      <td>USD</td>\n",
       "      <td>2025-03-22 17:07:12</td>\n",
       "    </tr>\n",
       "    <tr>\n",
       "      <th>11</th>\n",
       "      <td>4481c83b-5f93-4a3f-adcb-b890ced3ef2c</td>\n",
       "      <td>ccd129ab-192a-492b-98a3-0bebbf825040</td>\n",
       "      <td>Checking</td>\n",
       "      <td>11190.30</td>\n",
       "      <td>USD</td>\n",
       "      <td>2025-03-22 17:07:12</td>\n",
       "    </tr>\n",
       "    <tr>\n",
       "      <th>12</th>\n",
       "      <td>c0ea7492-04f1-47c1-b1c7-9f428db4bd35</td>\n",
       "      <td>27abc0e8-461d-4ee6-8646-997a2e097621</td>\n",
       "      <td>Checking</td>\n",
       "      <td>73375.52</td>\n",
       "      <td>USD</td>\n",
       "      <td>2025-03-22 17:07:12</td>\n",
       "    </tr>\n",
       "    <tr>\n",
       "      <th>13</th>\n",
       "      <td>90b848aa-2704-4633-804b-ec69df9724fb</td>\n",
       "      <td>6e718caf-f582-4b8d-871b-8f6a23f37643</td>\n",
       "      <td>Business</td>\n",
       "      <td>9875.00</td>\n",
       "      <td>USD</td>\n",
       "      <td>2025-03-22 17:07:12</td>\n",
       "    </tr>\n",
       "    <tr>\n",
       "      <th>14</th>\n",
       "      <td>24af6e22-6140-4ad7-8cb4-072d869cd8ca</td>\n",
       "      <td>0e1ded86-7ea1-4cf1-94fc-a02b145c34c5</td>\n",
       "      <td>Business</td>\n",
       "      <td>99689.31</td>\n",
       "      <td>USD</td>\n",
       "      <td>2025-03-22 17:07:12</td>\n",
       "    </tr>\n",
       "  </tbody>\n",
       "</table>\n",
       "</div>"
      ],
      "text/plain": [
       "                              account_id  \\\n",
       "0   91c4c77d-994c-47af-a4f9-818358468803   \n",
       "1   d91f757c-6208-4333-a42d-6da7f74adf68   \n",
       "2   32da0ff3-74b0-425d-a870-f4312053a810   \n",
       "3   c571976d-4b02-4001-b1e6-6481c8d00345   \n",
       "4   27def753-9b09-4cc4-a5fa-b06f2e19da11   \n",
       "5   36e1e9f3-a79c-441d-afa6-c92b7ce2593d   \n",
       "6   e8594fed-8712-4fb9-b990-598962f66584   \n",
       "7   4bf31b3a-3753-49bd-b6ce-a81d8e5a59d3   \n",
       "8   7c0967cf-453f-4e05-82be-928dbfe534a2   \n",
       "9   3f01d11c-6a4b-404e-b323-c3c5764de45f   \n",
       "10  3687a0ca-4dda-4530-a9b6-0be3baaccd6e   \n",
       "11  4481c83b-5f93-4a3f-adcb-b890ced3ef2c   \n",
       "12  c0ea7492-04f1-47c1-b1c7-9f428db4bd35   \n",
       "13  90b848aa-2704-4633-804b-ec69df9724fb   \n",
       "14  24af6e22-6140-4ad7-8cb4-072d869cd8ca   \n",
       "\n",
       "                             customer_id account_type  account_balance  \\\n",
       "0   e91b4955-3450-446e-a203-7b54e796259d      Savings         83009.85   \n",
       "1   b46d5435-4f11-4fec-a8e8-569e6f608cae     Checking         95387.39   \n",
       "2   549b98fd-7562-4b8e-81dc-bc36b8a4bb8e     Business         48961.79   \n",
       "3   ff34f1c1-5728-4395-bbad-cf7f19aedae3     Business          3611.35   \n",
       "4   50177ad2-e8e6-42af-8541-f96079453d92     Business         92351.62   \n",
       "5   ded811e2-cd52-42c5-ba89-6c4636f4578c      Savings         85434.47   \n",
       "6   a64e3d75-86e2-4e43-a287-4a00b669e4f4     Checking         70568.10   \n",
       "7   8c3b0d76-9e73-477a-9443-fd0d17221698      Savings         30022.16   \n",
       "8   bd41de0e-8887-400a-9aba-65fcf471e291     Business         99031.29   \n",
       "9   2523fe1c-5d50-445c-87d4-bae294f8f773     Checking         83989.63   \n",
       "10  4783e39c-9150-4be4-a51d-fbc4bebe844b      Savings          3547.27   \n",
       "11  ccd129ab-192a-492b-98a3-0bebbf825040     Checking         11190.30   \n",
       "12  27abc0e8-461d-4ee6-8646-997a2e097621     Checking         73375.52   \n",
       "13  6e718caf-f582-4b8d-871b-8f6a23f37643     Business          9875.00   \n",
       "14  0e1ded86-7ea1-4cf1-94fc-a02b145c34c5     Business         99689.31   \n",
       "\n",
       "   currency           created_at  \n",
       "0       USD  2025-03-22 17:07:12  \n",
       "1       USD  2025-03-22 17:07:12  \n",
       "2       USD  2025-03-22 17:07:12  \n",
       "3       USD  2025-03-22 17:07:12  \n",
       "4       USD  2025-03-22 17:07:12  \n",
       "5       USD  2025-03-22 17:07:12  \n",
       "6       USD  2025-03-22 17:07:12  \n",
       "7       USD  2025-03-22 17:07:12  \n",
       "8       USD  2025-03-22 17:07:12  \n",
       "9       USD  2025-03-22 17:07:12  \n",
       "10      USD  2025-03-22 17:07:12  \n",
       "11      USD  2025-03-22 17:07:12  \n",
       "12      USD  2025-03-22 17:07:12  \n",
       "13      USD  2025-03-22 17:07:12  \n",
       "14      USD  2025-03-22 17:07:12  "
      ]
     },
     "execution_count": 3,
     "metadata": {},
     "output_type": "execute_result"
    }
   ],
   "source": [
    "df.head(15)"
   ]
  },
  {
   "cell_type": "code",
   "execution_count": 4,
   "metadata": {},
   "outputs": [
    {
     "name": "stdout",
     "output_type": "stream",
     "text": [
      "account_id         0\n",
      "customer_id        0\n",
      "account_type       0\n",
      "account_balance    0\n",
      "currency           0\n",
      "created_at         0\n",
      "dtype: int64\n"
     ]
    }
   ],
   "source": [
    "# 1. Check for missing values\n",
    "print(df.isnull().sum())"
   ]
  },
  {
   "cell_type": "code",
   "execution_count": 5,
   "metadata": {},
   "outputs": [
    {
     "name": "stdout",
     "output_type": "stream",
     "text": [
      "0\n"
     ]
    }
   ],
   "source": [
    "# 2. Check for duplicates\n",
    "print(df.duplicated().sum())"
   ]
  },
  {
   "cell_type": "code",
   "execution_count": 6,
   "metadata": {},
   "outputs": [
    {
     "name": "stdout",
     "output_type": "stream",
     "text": [
      "account_id          object\n",
      "customer_id         object\n",
      "account_type        object\n",
      "account_balance    float64\n",
      "currency            object\n",
      "created_at          object\n",
      "dtype: object\n"
     ]
    }
   ],
   "source": [
    "# 3. Check for data types\n",
    "print(df.dtypes)"
   ]
  },
  {
   "cell_type": "code",
   "execution_count": 7,
   "metadata": {},
   "outputs": [
    {
     "name": "stdout",
     "output_type": "stream",
     "text": [
      "account_id         100000\n",
      "customer_id        100000\n",
      "account_type            3\n",
      "account_balance     99484\n",
      "currency                1\n",
      "created_at              2\n",
      "dtype: int64\n"
     ]
    }
   ],
   "source": [
    "# 4. Check for unique values\n",
    "print(df.nunique())"
   ]
  },
  {
   "cell_type": "code",
   "execution_count": 8,
   "metadata": {},
   "outputs": [
    {
     "name": "stdout",
     "output_type": "stream",
     "text": [
      "100000\n"
     ]
    }
   ],
   "source": [
    "print(df['account_id'].nunique())  # Should also be 100,000\n",
    "# If less than 100,000, there are duplicates.\n"
   ]
  },
  {
   "cell_type": "code",
   "execution_count": 9,
   "metadata": {},
   "outputs": [
    {
     "data": {
      "text/html": [
       "<div>\n",
       "<style scoped>\n",
       "    .dataframe tbody tr th:only-of-type {\n",
       "        vertical-align: middle;\n",
       "    }\n",
       "\n",
       "    .dataframe tbody tr th {\n",
       "        vertical-align: top;\n",
       "    }\n",
       "\n",
       "    .dataframe thead th {\n",
       "        text-align: right;\n",
       "    }\n",
       "</style>\n",
       "<table border=\"1\" class=\"dataframe\">\n",
       "  <thead>\n",
       "    <tr style=\"text-align: right;\">\n",
       "      <th></th>\n",
       "      <th>account_balance</th>\n",
       "    </tr>\n",
       "  </thead>\n",
       "  <tbody>\n",
       "    <tr>\n",
       "      <th>count</th>\n",
       "      <td>100000.000000</td>\n",
       "    </tr>\n",
       "    <tr>\n",
       "      <th>mean</th>\n",
       "      <td>50228.233847</td>\n",
       "    </tr>\n",
       "    <tr>\n",
       "      <th>std</th>\n",
       "      <td>28856.660775</td>\n",
       "    </tr>\n",
       "    <tr>\n",
       "      <th>min</th>\n",
       "      <td>100.000000</td>\n",
       "    </tr>\n",
       "    <tr>\n",
       "      <th>25%</th>\n",
       "      <td>25290.257500</td>\n",
       "    </tr>\n",
       "    <tr>\n",
       "      <th>50%</th>\n",
       "      <td>50474.110000</td>\n",
       "    </tr>\n",
       "    <tr>\n",
       "      <th>75%</th>\n",
       "      <td>75193.415000</td>\n",
       "    </tr>\n",
       "    <tr>\n",
       "      <th>max</th>\n",
       "      <td>99999.930000</td>\n",
       "    </tr>\n",
       "  </tbody>\n",
       "</table>\n",
       "</div>"
      ],
      "text/plain": [
       "       account_balance\n",
       "count    100000.000000\n",
       "mean      50228.233847\n",
       "std       28856.660775\n",
       "min         100.000000\n",
       "25%       25290.257500\n",
       "50%       50474.110000\n",
       "75%       75193.415000\n",
       "max       99999.930000"
      ]
     },
     "execution_count": 9,
     "metadata": {},
     "output_type": "execute_result"
    }
   ],
   "source": [
    "# 5. Check for the distribution of numerical columns\n",
    "df.describe()"
   ]
  },
  {
   "cell_type": "code",
   "execution_count": 10,
   "metadata": {},
   "outputs": [
    {
     "name": "stdout",
     "output_type": "stream",
     "text": [
      "account_id                 object\n",
      "customer_id                object\n",
      "account_type               object\n",
      "account_balance           float64\n",
      "currency                   object\n",
      "created_at         datetime64[ns]\n",
      "dtype: object\n"
     ]
    }
   ],
   "source": [
    "df['created_at'] = pd.to_datetime(df['created_at'], errors='coerce')\n",
    "\n",
    "# Verify changes\n",
    "print(df.dtypes)"
   ]
  },
  {
   "cell_type": "markdown",
   "metadata": {},
   "source": [
    "### Handle Outliers (IQR Method)"
   ]
  },
  {
   "cell_type": "code",
   "execution_count": 11,
   "metadata": {},
   "outputs": [
    {
     "name": "stdout",
     "output_type": "stream",
     "text": [
      "-49564.47875000002 150048.15125000002\n"
     ]
    }
   ],
   "source": [
    "Q1 = df['account_balance'].quantile(0.25)\n",
    "Q3 = df['account_balance'].quantile(0.75)\n",
    "IQR = Q3 - Q1\n",
    "lower_bound = Q1 - 1.5 * IQR\n",
    "upper_bound = Q3 + 1.5 * IQR\n",
    "print(lower_bound, upper_bound)\n"
   ]
  },
  {
   "cell_type": "markdown",
   "metadata": {},
   "source": [
    "### Your account_balance column has no outliers based on the IQR method. The data is well-distributed.\n",
    "Explanation: \n",
    "Negative Lower Bound: A negative balance makes no sense for a typical account balance if it's not supposed to allow overdrafts.\n",
    "However, it being negative indicates that there are no negative values in your data — all positive balances fall above the lower bound.\n",
    "\n",
    "No outliers on the lower side.\n",
    "\n",
    "Upper Bound :The maximum value in your data is 99,999.42, which is well below the upper bound.\n",
    "\n",
    "No outliers on the upper side."
   ]
  },
  {
   "cell_type": "code",
   "execution_count": 12,
   "metadata": {},
   "outputs": [
    {
     "name": "stdout",
     "output_type": "stream",
     "text": [
      "Numerical columns: Index(['account_balance'], dtype='object')\n"
     ]
    }
   ],
   "source": [
    "# Check numerical columns\n",
    "num_cols = df.select_dtypes(include=[np.number]).columns\n",
    "print(\"Numerical columns:\", num_cols)\n"
   ]
  },
  {
   "cell_type": "code",
   "execution_count": null,
   "metadata": {},
   "outputs": [],
   "source": [
    "####"
   ]
  },
  {
   "cell_type": "code",
   "execution_count": null,
   "metadata": {},
   "outputs": [],
   "source": []
  }
 ],
 "metadata": {
  "kernelspec": {
   "display_name": "reg",
   "language": "python",
   "name": "python3"
  },
  "language_info": {
   "codemirror_mode": {
    "name": "ipython",
    "version": 3
   },
   "file_extension": ".py",
   "mimetype": "text/x-python",
   "name": "python",
   "nbconvert_exporter": "python",
   "pygments_lexer": "ipython3",
   "version": "3.12.4"
  }
 },
 "nbformat": 4,
 "nbformat_minor": 2
}
