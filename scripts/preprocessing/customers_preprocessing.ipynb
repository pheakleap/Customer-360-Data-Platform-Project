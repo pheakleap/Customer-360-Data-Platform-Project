{
 "cells": [
  {
   "cell_type": "markdown",
   "metadata": {},
   "source": [
    "## Data Preprocessing"
   ]
  },
  {
   "cell_type": "code",
   "execution_count": 32,
   "metadata": {},
   "outputs": [],
   "source": [
    "import pandas as pd\n",
    "import numpy as np\n",
    "import matplotlib.pyplot as plt\n",
    "import seaborn as sns"
   ]
  },
  {
   "cell_type": "markdown",
   "metadata": {},
   "source": [
    "### EDA"
   ]
  },
  {
   "cell_type": "code",
   "execution_count": 33,
   "metadata": {},
   "outputs": [],
   "source": [
    "df = pd.read_csv(\"../ETL/data/customers.csv\")"
   ]
  },
  {
   "cell_type": "code",
   "execution_count": 34,
   "metadata": {},
   "outputs": [
    {
     "name": "stdout",
     "output_type": "stream",
     "text": [
      "customer_id    0\n",
      "first_name     0\n",
      "last_name      0\n",
      "email          0\n",
      "phone          0\n",
      "dob            0\n",
      "gender         0\n",
      "created_at     0\n",
      "dtype: int64\n"
     ]
    }
   ],
   "source": [
    "# 1. Check for missing values\n",
    "print(df.isnull().sum())"
   ]
  },
  {
   "cell_type": "code",
   "execution_count": 35,
   "metadata": {},
   "outputs": [
    {
     "name": "stdout",
     "output_type": "stream",
     "text": [
      "0\n"
     ]
    }
   ],
   "source": [
    "# 2. Check for duplicates\n",
    "print(df.duplicated().sum())"
   ]
  },
  {
   "cell_type": "code",
   "execution_count": 36,
   "metadata": {},
   "outputs": [
    {
     "name": "stdout",
     "output_type": "stream",
     "text": [
      "customer_id    object\n",
      "first_name     object\n",
      "last_name      object\n",
      "email          object\n",
      "phone          object\n",
      "dob            object\n",
      "gender         object\n",
      "created_at     object\n",
      "dtype: object\n"
     ]
    }
   ],
   "source": [
    "# 3. Check for data types\n",
    "print(df.dtypes)"
   ]
  },
  {
   "cell_type": "code",
   "execution_count": 37,
   "metadata": {},
   "outputs": [
    {
     "name": "stdout",
     "output_type": "stream",
     "text": [
      "customer_id    100000\n",
      "first_name        690\n",
      "last_name        1000\n",
      "email          100000\n",
      "phone          100000\n",
      "dob             17471\n",
      "gender              3\n",
      "created_at         26\n",
      "dtype: int64\n"
     ]
    }
   ],
   "source": [
    "# 4. Check for unique values\n",
    "print(df.nunique())"
   ]
  },
  {
   "cell_type": "code",
   "execution_count": 38,
   "metadata": {},
   "outputs": [
    {
     "data": {
      "text/html": [
       "<div>\n",
       "<style scoped>\n",
       "    .dataframe tbody tr th:only-of-type {\n",
       "        vertical-align: middle;\n",
       "    }\n",
       "\n",
       "    .dataframe tbody tr th {\n",
       "        vertical-align: top;\n",
       "    }\n",
       "\n",
       "    .dataframe thead th {\n",
       "        text-align: right;\n",
       "    }\n",
       "</style>\n",
       "<table border=\"1\" class=\"dataframe\">\n",
       "  <thead>\n",
       "    <tr style=\"text-align: right;\">\n",
       "      <th></th>\n",
       "      <th>customer_id</th>\n",
       "      <th>first_name</th>\n",
       "      <th>last_name</th>\n",
       "      <th>email</th>\n",
       "      <th>phone</th>\n",
       "      <th>dob</th>\n",
       "      <th>gender</th>\n",
       "      <th>created_at</th>\n",
       "    </tr>\n",
       "  </thead>\n",
       "  <tbody>\n",
       "    <tr>\n",
       "      <th>count</th>\n",
       "      <td>100000</td>\n",
       "      <td>100000</td>\n",
       "      <td>100000</td>\n",
       "      <td>100000</td>\n",
       "      <td>100000</td>\n",
       "      <td>100000</td>\n",
       "      <td>100000</td>\n",
       "      <td>100000</td>\n",
       "    </tr>\n",
       "    <tr>\n",
       "      <th>unique</th>\n",
       "      <td>100000</td>\n",
       "      <td>690</td>\n",
       "      <td>1000</td>\n",
       "      <td>100000</td>\n",
       "      <td>100000</td>\n",
       "      <td>17471</td>\n",
       "      <td>3</td>\n",
       "      <td>26</td>\n",
       "    </tr>\n",
       "    <tr>\n",
       "      <th>top</th>\n",
       "      <td>0600cf21-8e9d-4b88-9c6f-7b4cbe1987d8</td>\n",
       "      <td>Michael</td>\n",
       "      <td>Smith</td>\n",
       "      <td>dburns@example.org</td>\n",
       "      <td>(797)590-5453</td>\n",
       "      <td>1992-06-25</td>\n",
       "      <td>Other</td>\n",
       "      <td>2025-03-21 15:03:05</td>\n",
       "    </tr>\n",
       "    <tr>\n",
       "      <th>freq</th>\n",
       "      <td>1</td>\n",
       "      <td>2282</td>\n",
       "      <td>2207</td>\n",
       "      <td>1</td>\n",
       "      <td>1</td>\n",
       "      <td>18</td>\n",
       "      <td>33552</td>\n",
       "      <td>4525</td>\n",
       "    </tr>\n",
       "  </tbody>\n",
       "</table>\n",
       "</div>"
      ],
      "text/plain": [
       "                                 customer_id first_name last_name  \\\n",
       "count                                 100000     100000    100000   \n",
       "unique                                100000        690      1000   \n",
       "top     0600cf21-8e9d-4b88-9c6f-7b4cbe1987d8    Michael     Smith   \n",
       "freq                                       1       2282      2207   \n",
       "\n",
       "                     email          phone         dob  gender  \\\n",
       "count               100000         100000      100000  100000   \n",
       "unique              100000         100000       17471       3   \n",
       "top     dburns@example.org  (797)590-5453  1992-06-25   Other   \n",
       "freq                     1              1          18   33552   \n",
       "\n",
       "                 created_at  \n",
       "count                100000  \n",
       "unique                   26  \n",
       "top     2025-03-21 15:03:05  \n",
       "freq                   4525  "
      ]
     },
     "execution_count": 38,
     "metadata": {},
     "output_type": "execute_result"
    }
   ],
   "source": [
    "# 5. Check for the distribution of numerical columns\n",
    "df.describe()"
   ]
  },
  {
   "cell_type": "code",
   "execution_count": 39,
   "metadata": {},
   "outputs": [
    {
     "name": "stdout",
     "output_type": "stream",
     "text": [
      "customer_id            object\n",
      "first_name             object\n",
      "last_name              object\n",
      "email                  object\n",
      "phone                  object\n",
      "dob            datetime64[ns]\n",
      "gender                 object\n",
      "created_at     datetime64[ns]\n",
      "dtype: object\n"
     ]
    }
   ],
   "source": [
    "# Convert 'dob' and 'created_at' to datetime format\n",
    "df['dob'] = pd.to_datetime(df['dob'], errors='coerce')  # Converts valid dates, sets errors to NaT\n",
    "df['created_at'] = pd.to_datetime(df['created_at'], errors='coerce')\n",
    "\n",
    "# Verify changes\n",
    "print(df.dtypes)\n"
   ]
  },
  {
   "cell_type": "markdown",
   "metadata": {},
   "source": [
    "### Handle Outliers (IQR Method)"
   ]
  },
  {
   "cell_type": "code",
   "execution_count": 41,
   "metadata": {},
   "outputs": [],
   "source": [
    "# Define function to remove outliers based on IQR\n",
    "def remove_outliers(df, col):\n",
    "    Q1 = df[col].quantile(0.25)\n",
    "    Q3 = df[col].quantile(0.75)\n",
    "    IQR = Q3 - Q1\n",
    "    lower_bound = Q1 - 1.5 * IQR\n",
    "    upper_bound = Q3 + 1.5 * IQR\n",
    "    return df[(df[col] >= lower_bound) & (df[col] <= upper_bound)]\n",
    "\n",
    "# Define numerical columns\n",
    "num_cols = df.select_dtypes(include=[np.number]).columns\n",
    "\n",
    "# Apply to numerical columns\n",
    "for col in num_cols:\n",
    "    df = remove_outliers(df, col)\n"
   ]
  },
  {
   "cell_type": "code",
   "execution_count": 42,
   "metadata": {},
   "outputs": [
    {
     "name": "stdout",
     "output_type": "stream",
     "text": [
      "Numerical columns: Index([], dtype='object')\n"
     ]
    }
   ],
   "source": [
    "# Check numerical columns\n",
    "num_cols = df.select_dtypes(include=[np.number]).columns\n",
    "print(\"Numerical columns:\", num_cols)\n"
   ]
  },
  {
   "cell_type": "code",
   "execution_count": null,
   "metadata": {},
   "outputs": [],
   "source": [
    "###"
   ]
  }
 ],
 "metadata": {
  "kernelspec": {
   "display_name": "reg",
   "language": "python",
   "name": "python3"
  },
  "language_info": {
   "codemirror_mode": {
    "name": "ipython",
    "version": 3
   },
   "file_extension": ".py",
   "mimetype": "text/x-python",
   "name": "python",
   "nbconvert_exporter": "python",
   "pygments_lexer": "ipython3",
   "version": "3.12.4"
  }
 },
 "nbformat": 4,
 "nbformat_minor": 2
}
