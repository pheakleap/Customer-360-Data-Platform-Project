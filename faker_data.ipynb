{
 "cells": [
  {
   "cell_type": "code",
   "execution_count": 30,
   "metadata": {},
   "outputs": [
    {
     "name": "stdout",
     "output_type": "stream",
     "text": [
      "✅ Generated 100000 / 100000 customers\n",
      "🎉 Customers generation completed: 100000 rows\n",
      "✅ Generated 100000 / 100000 accounts\n",
      "🎉 Accounts generation completed: 100000 rows\n"
     ]
    }
   ],
   "source": [
    "from faker import Faker\n",
    "import random\n",
    "import pandas as pd\n",
    "from datetime import datetime, timedelta\n",
    "from sqlalchemy import create_engine\n",
    "\n",
    "fake = Faker()\n",
    "\n",
    "# Generate Customers\n",
    "def generate_customers(n=100000):\n",
    "    customers = []\n",
    "    for i in range(n):\n",
    "        customers.append({\n",
    "            \"customer_id\": fake.uuid4(),\n",
    "            \"first_name\": fake.first_name(),\n",
    "            \"last_name\": fake.last_name(),\n",
    "            \"email\": fake.unique.email(),\n",
    "            \"phone\": fake.phone_number(),\n",
    "            \"dob\": fake.date_of_birth(minimum_age=18, maximum_age=65).strftime(\"%Y-%m-%d\"),\n",
    "            \"gender\": random.choice([\"Male\", \"Female\", \"Other\"]),\n",
    "            \"created_at\": datetime.now().strftime(\"%Y-%m-%d %H:%M:%S\")\n",
    "        })\n",
    "        if (i + 1) % 100000 == 0:\n",
    "            print(f\"✅ Generated {i + 1} / {n} customers\")\n",
    "    df = pd.DataFrame(customers)\n",
    "    df.to_csv(\"customers.csv\", index=False)\n",
    "    print(f\"🎉 Customers generation completed: {len(df)} rows\")\n",
    "    return df\n",
    "\n",
    "# Generate Accounts\n",
    "def generate_accounts(customers_df):\n",
    "    accounts = []\n",
    "    for i, customer in enumerate(customers_df.itertuples(index=False)):\n",
    "        accounts.append({\n",
    "            \"account_id\": fake.uuid4(),\n",
    "            \"customer_id\": customer.customer_id,\n",
    "            \"account_type\": random.choice([\"Savings\", \"Checking\", \"Business\"]),\n",
    "            \"account_balance\": round(random.uniform(100, 100000), 2),\n",
    "            \"currency\": \"USD\",\n",
    "            \"created_at\": datetime.now().strftime(\"%Y-%m-%d %H:%M:%S\")\n",
    "        })\n",
    "        if (i + 1) % 100000 == 0:\n",
    "            print(f\"✅ Generated {i + 1} / {len(customers_df)} accounts\")\n",
    "    df = pd.DataFrame(accounts)\n",
    "    df.to_csv(\"accounts.csv\", index=False)\n",
    "    print(f\"🎉 Accounts generation completed: {len(df)} rows\")\n",
    "    return df\n",
    "\n",
    "# Run the Generators (Smaller sample sizes for testing)\n",
    "customers_df = generate_customers(100000)\n",
    "accounts_df = generate_accounts(customers_df)"
   ]
  },
  {
   "cell_type": "code",
   "execution_count": 28,
   "metadata": {},
   "outputs": [
    {
     "name": "stdout",
     "output_type": "stream",
     "text": [
      "✅ transactions.csv has been deleted.\n"
     ]
    }
   ],
   "source": [
    "import os\n",
    "# Check if the file exists\n",
    "if os.path.exists(file_path):\n",
    "    os.remove(\"customers.csv\")  # Delete the file\n",
    "    print(f\"✅ {file_path} has been deleted.\")\n",
    "else:\n",
    "    print(\"❌ File does not exist.\")"
   ]
  },
  {
   "cell_type": "code",
   "execution_count": 29,
   "metadata": {},
   "outputs": [
    {
     "name": "stdout",
     "output_type": "stream",
     "text": [
      "✅ transactions.csv has been deleted.\n"
     ]
    }
   ],
   "source": [
    "import os\n",
    "# Check if the file exists\n",
    "if os.path.exists(file_path):\n",
    "    os.remove(\"accounts.csv\")  # Delete the file\n",
    "    print(f\"✅ {file_path} has been deleted.\")\n",
    "else:\n",
    "    print(\"❌ File does not exist.\")"
   ]
  },
  {
   "cell_type": "code",
   "execution_count": 9,
   "metadata": {},
   "outputs": [
    {
     "name": "stdout",
     "output_type": "stream",
     "text": [
      "                             account_id                           customer_id  \\\n",
      "0  3cd69138-cb49-4467-b756-a2d61b8040f2  09cc5550-3361-4683-99bc-0cba777ebaa6   \n",
      "1  44a739fc-74ba-4c41-a4c9-ddb76f0c99ff  13265d4b-1851-46c4-9f0a-296af6beaf89   \n",
      "2  ecf4c747-f48f-41d9-b070-4c4d2897e691  e42b8c5e-fc14-4d4c-9ea1-8564ea6381c5   \n",
      "3  0463f8d7-f76c-4943-92d8-3496b8f8b265  b5342ae2-fcb2-4c1d-9ace-bdfbb3a11081   \n",
      "4  b64cc214-b9fb-48e0-b28a-f8b0116c599b  0d64f834-1492-4905-b394-6f350e235816   \n",
      "\n",
      "  account_type  account_balance currency           created_at  \n",
      "0      Savings         71172.92      USD  2025-03-21 13:00:16  \n",
      "1      Savings         92456.74      USD  2025-03-21 13:00:16  \n",
      "2      Savings          6416.11      USD  2025-03-21 13:00:16  \n",
      "3     Business         25404.55      USD  2025-03-21 13:00:16  \n",
      "4     Business         24279.80      USD  2025-03-21 13:00:16  \n"
     ]
    }
   ],
   "source": [
    "# Check accounts_df before passing it to the function\n",
    "print(accounts_df.head())  # Ensure that the dataframe contains account_id\n"
   ]
  },
  {
   "cell_type": "code",
   "execution_count": 36,
   "metadata": {},
   "outputs": [
    {
     "name": "stdout",
     "output_type": "stream",
     "text": [
      "✅ Generated 100000 / 400000 transactions\n",
      "✅ Generated 200000 / 400000 transactions\n",
      "✅ Generated 300000 / 400000 transactions\n",
      "✅ Generated 400000 / 400000 transactions\n"
     ]
    }
   ],
   "source": [
    "def generate_transactions(accounts_df, n=400000, batch_size=100000):\n",
    "    transactions = []\n",
    "    account_ids = accounts_df[\"account_id\"].values  # Directly access the numpy array\n",
    "    for i in range(n):\n",
    "        transactions.append({\n",
    "            \"transaction_id\": fake.uuid4(),\n",
    "            \"account_id\": random.choice(account_ids),  # Use numpy array for faster random selection\n",
    "            \"transaction_type\": random.choice([\"Deposit\", \"Withdrawal\", \"Transfer\", \"Payment\"]),\n",
    "            \"amount\": round(random.uniform(5, 5000), 2),\n",
    "            \"transaction_date\": fake.date_time_this_year().strftime(\"%Y-%m-%d %H:%M:%S\"),\n",
    "            \"status\": random.choice([\"Completed\", \"Pending\", \"Failed\"])\n",
    "        })\n",
    "        \n",
    "        # Write to CSV every batch_size records\n",
    "        if (i + 1) % batch_size == 0:\n",
    "            print(f\"✅ Generated {i + 1} / {n} transactions\")\n",
    "            df = pd.DataFrame(transactions)\n",
    "            df.to_csv(\"transactions.csv\", mode='a', header=(i == 0), index=False)  # Append to CSV\n",
    "            transactions.clear()  # Clear the list to free memory\n",
    "    \n",
    "    # Final write if the remaining transactions are less than batch_size\n",
    "    if transactions:\n",
    "        df = pd.DataFrame(transactions)\n",
    "        df.to_csv(\"transactions.csv\", mode='a', header=False, index=False)\n",
    "    \n",
    "    return df\n",
    "\n",
    "# Run the function with 100,000 transactions (adjust the number as needed)\n",
    "transactions_df = generate_transactions(accounts_df, 400000)"
   ]
  },
  {
   "cell_type": "code",
   "execution_count": 32,
   "metadata": {},
   "outputs": [
    {
     "name": "stdout",
     "output_type": "stream",
     "text": [
      "❌ File does not exist.\n"
     ]
    }
   ],
   "source": [
    "import os\n",
    "# Check if the file exists\n",
    "if os.path.exists(file_path):\n",
    "    os.remove(\"transactions.csv\")  # Delete the file\n",
    "    print(f\"✅ {file_path} has been deleted.\")\n",
    "else:\n",
    "    print(\"❌ File does not exist.\")"
   ]
  },
  {
   "cell_type": "code",
   "execution_count": 37,
   "metadata": {},
   "outputs": [
    {
     "name": "stdout",
     "output_type": "stream",
     "text": [
      "✅ Generated 10000 / 60000 loans\n",
      "✅ Generated 20000 / 60000 loans\n",
      "✅ Generated 30000 / 60000 loans\n",
      "✅ Generated 40000 / 60000 loans\n",
      "✅ Generated 50000 / 60000 loans\n",
      "✅ Generated 60000 / 60000 loans\n"
     ]
    }
   ],
   "source": [
    "def generate_loans(customers_df, n=60000, batch_size=10000):\n",
    "    loans = []\n",
    "    for i in range(n):\n",
    "        loans.append({\n",
    "            \"loan_id\": fake.uuid4(),\n",
    "            \"customer_id\": random.choice(customers_df[\"customer_id\"].tolist()),  # Link to existing customers\n",
    "            \"loan_type\": random.choice([\"Mortgage\", \"Personal\", \"Auto Loan\"]),\n",
    "            \"loan_amount\": round(random.uniform(5000, 500000), 2),\n",
    "            \"interest_rate\": round(random.uniform(1.5, 10), 2),\n",
    "            \"loan_status\": random.choice([\"Active\", \"Closed\", \"Defaulted\"]),\n",
    "            \"due_date\": fake.future_date(end_date=\"+1y\").strftime(\"%Y-%m-%d\")\n",
    "        })\n",
    "        \n",
    "        # Write to CSV every batch_size records\n",
    "        if (i + 1) % batch_size == 0:\n",
    "            print(f\"✅ Generated {i + 1} / {n} loans\")\n",
    "            df = pd.DataFrame(loans)\n",
    "            df.to_csv(\"loans.csv\", mode='a', header=(i == 0), index=False)  # Append to CSV\n",
    "            loans.clear()  # Clear the list to free memory\n",
    "    \n",
    "    # Final write if the remaining loans are less than batch_size\n",
    "    if loans:\n",
    "        df = pd.DataFrame(loans)\n",
    "        df.to_csv(\"loans.csv\", mode='a', header=False, index=False)\n",
    "    \n",
    "    return df\n",
    "\n",
    "# Run the function with 100,000 loans\n",
    "loans_df = generate_loans(customers_df, 60000)"
   ]
  },
  {
   "cell_type": "code",
   "execution_count": 26,
   "metadata": {},
   "outputs": [],
   "source": [
    "data = pd.read_csv(\"loans.csv\")"
   ]
  },
  {
   "cell_type": "code",
   "execution_count": 35,
   "metadata": {},
   "outputs": [
    {
     "name": "stdout",
     "output_type": "stream",
     "text": [
      "❌ File does not exist.\n"
     ]
    }
   ],
   "source": [
    "import os\n",
    "# Check if the file exists\n",
    "if os.path.exists(file_path):\n",
    "    os.remove(\"loans.csv\")  # Delete the file\n",
    "    print(f\"✅ {file_path} has been deleted.\")\n",
    "else:\n",
    "    print(\"❌ File does not exist.\")"
   ]
  },
  {
   "cell_type": "code",
   "execution_count": 38,
   "metadata": {},
   "outputs": [
    {
     "name": "stdout",
     "output_type": "stream",
     "text": [
      "✅ Generated 10000 / 80000 support tickets\n",
      "✅ Generated 20000 / 80000 support tickets\n",
      "✅ Generated 30000 / 80000 support tickets\n",
      "✅ Generated 40000 / 80000 support tickets\n",
      "✅ Generated 50000 / 80000 support tickets\n",
      "✅ Generated 60000 / 80000 support tickets\n",
      "✅ Generated 70000 / 80000 support tickets\n",
      "✅ Generated 80000 / 80000 support tickets\n"
     ]
    }
   ],
   "source": [
    "def generate_support_tickets(customers_df, n=80000, batch_size=10000):\n",
    "    tickets = []\n",
    "    for i in range(n):\n",
    "        tickets.append({\n",
    "            \"ticket_id\": fake.uuid4(),\n",
    "            \"customer_id\": random.choice(customers_df[\"customer_id\"].tolist()),  # Link to existing customers\n",
    "            \"issue_type\": random.choice([\"Fraud\", \"Loan Inquiry\", \"Transaction Issue\"]),\n",
    "            \"status\": random.choice([\"Open\", \"Closed\", \"In Progress\"]),\n",
    "            \"created_at\": fake.date_time_this_year().strftime(\"%Y-%m-%d %H:%M:%S\")\n",
    "        })\n",
    "        \n",
    "        # Write to CSV every batch_size records\n",
    "        if (i + 1) % batch_size == 0:\n",
    "            print(f\"✅ Generated {i + 1} / {n} support tickets\")\n",
    "            df = pd.DataFrame(tickets)\n",
    "            df.to_csv(\"support_tickets.csv\", mode='a', header=(i == 0), index=False)  # Append to CSV\n",
    "            tickets.clear()  # Clear the list to free memory\n",
    "    \n",
    "    # Final write if the remaining tickets are less than batch_size\n",
    "    if tickets:\n",
    "        df = pd.DataFrame(tickets)\n",
    "        df.to_csv(\"support_tickets.csv\", mode='a', header=False, index=False)\n",
    "    \n",
    "    return df\n",
    "\n",
    "# Run the function with 80,000 support tickets\n",
    "support_tickets_df = generate_support_tickets(customers_df, 80000)"
   ]
  },
  {
   "cell_type": "code",
   "execution_count": 39,
   "metadata": {},
   "outputs": [
    {
     "name": "stdout",
     "output_type": "stream",
     "text": [
      "✅ Generated 10000 / 40000 fraud incidents\n",
      "✅ Generated 20000 / 40000 fraud incidents\n",
      "✅ Generated 30000 / 40000 fraud incidents\n",
      "✅ Generated 40000 / 40000 fraud incidents\n"
     ]
    }
   ],
   "source": [
    "def generate_fraud_incidents(customers_df, n=40000, batch_size=10000):\n",
    "    incidents = []\n",
    "    for i in range(n):\n",
    "        incidents.append({\n",
    "            \"incident_id\": fake.uuid4(),\n",
    "            \"customer_id\": random.choice(customers_df[\"customer_id\"].tolist()),  # Link to existing customers\n",
    "            \"incident_type\": random.choice([\"Phishing\", \"Unauthorized Transaction\", \"Account Breach\"]),\n",
    "            \"incident_date\": fake.date_time_this_year().strftime(\"%Y-%m-%d %H:%M:%S\"),\n",
    "            \"status\": random.choice([\"Investigating\", \"Resolved\", \"Pending\"])\n",
    "        })\n",
    "        \n",
    "        # Write to CSV every batch_size records\n",
    "        if (i + 1) % batch_size == 0:\n",
    "            print(f\"✅ Generated {i + 1} / {n} fraud incidents\")\n",
    "            df = pd.DataFrame(incidents)\n",
    "            df.to_csv(\"fraud_incidents.csv\", mode='a', header=(i == 0), index=False)  # Append to CSV\n",
    "            incidents.clear()  # Clear the list to free memory\n",
    "    \n",
    "    # Final write if the remaining incidents are less than batch_size\n",
    "    if incidents:\n",
    "        df = pd.DataFrame(incidents)\n",
    "        df.to_csv(\"fraud_incidents.csv\", mode='a', header=False, index=False)\n",
    "    \n",
    "    return df\n",
    "\n",
    "# Run the function with 40,000 fraud incidents\n",
    "fraud_df = generate_fraud_incidents(customers_df, 40000)\n"
   ]
  }
 ],
 "metadata": {
  "kernelspec": {
   "display_name": "Python 3",
   "language": "python",
   "name": "python3"
  },
  "language_info": {
   "codemirror_mode": {
    "name": "ipython",
    "version": 3
   },
   "file_extension": ".py",
   "mimetype": "text/x-python",
   "name": "python",
   "nbconvert_exporter": "python",
   "pygments_lexer": "ipython3",
   "version": "3.11.7"
  }
 },
 "nbformat": 4,
 "nbformat_minor": 2
}
